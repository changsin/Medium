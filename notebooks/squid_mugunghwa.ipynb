{
  "nbformat": 4,
  "nbformat_minor": 0,
  "metadata": {
    "colab": {
      "name": "squid_mugunghwa.ipynb",
      "provenance": [],
      "collapsed_sections": [],
      "authorship_tag": "ABX9TyPhKug9Vqt3mGoKGgoWUKL+",
      "include_colab_link": true
    },
    "kernelspec": {
      "name": "python3",
      "display_name": "Python 3"
    },
    "language_info": {
      "name": "python"
    }
  },
  "cells": [
    {
      "cell_type": "markdown",
      "metadata": {
        "id": "view-in-github",
        "colab_type": "text"
      },
      "source": [
        "<a href=\"https://colab.research.google.com/github/changsin/Medium/blob/main/notebooks/squid_mugunghwa.ipynb\" target=\"_parent\"><img src=\"https://colab.research.google.com/assets/colab-badge.svg\" alt=\"Open In Colab\"/></a>"
      ]
    },
    {
      "cell_type": "markdown",
      "metadata": {
        "id": "delgJvny089O"
      },
      "source": [
        "# Squid Game - Red Light, Green Light"
      ]
    },
    {
      "cell_type": "code",
      "metadata": {
        "colab": {
          "base_uri": "https://localhost:8080/"
        },
        "id": "MI3z5wmD069e",
        "outputId": "111f94b9-4e49-460c-aa50-9725c653c06e"
      },
      "source": [
        "!pip install -q youtube-dl"
      ],
      "execution_count": 4,
      "outputs": [
        {
          "output_type": "stream",
          "name": "stdout",
          "text": [
            "\u001b[K     |████████████████████████████████| 1.9 MB 5.2 MB/s \n",
            "\u001b[?25h"
          ]
        }
      ]
    },
    {
      "cell_type": "code",
      "metadata": {
        "colab": {
          "base_uri": "https://localhost:8080/",
          "height": 321
        },
        "id": "4gPvA1xA0_Iq",
        "outputId": "5a793625-38b0-48ba-f0c9-4734f8e19dc4"
      },
      "source": [
        "from IPython.display import YouTubeVideo\n",
        "\n",
        "squid_mugunghwa = \"squid_mugunghwa\"\n",
        "squid_mugunghwa_id = 'NPCD8XwHUR0'\n",
        "YouTubeVideo(squid_mugunghwa_id)"
      ],
      "execution_count": 5,
      "outputs": [
        {
          "output_type": "execute_result",
          "data": {
            "text/html": [
              "\n",
              "        <iframe\n",
              "            width=\"400\"\n",
              "            height=\"300\"\n",
              "            src=\"https://www.youtube.com/embed/NPCD8XwHUR0\"\n",
              "            frameborder=\"0\"\n",
              "            allowfullscreen\n",
              "        ></iframe>\n",
              "        "
            ],
            "text/plain": [
              "<IPython.lib.display.YouTubeVideo at 0x7f9c98aa4650>"
            ],
            "image/jpeg": "[encoded data removed]"
          },
          "metadata": {},
          "execution_count": 5
        }
      ]
    },
    {
      "cell_type": "code",
      "metadata": {
        "colab": {
          "base_uri": "https://localhost:8080/"
        },
        "id": "8sYeWysp1VMm",
        "outputId": "724ab594-bd19-4804-f3d7-374e1a3ba4a9"
      },
      "source": [
        "def download_youtube(youtube_id, save_filename):\n",
        "  !youtube-dl -f 'bestvideo[ext=mp4]' --output $save_filename\".%(ext)s\" https://www.youtube.com/watch?v=$youtube_id\n",
        "\n",
        "download_youtube(squid_mugunghwa_id, squid_mugunghwa)"
      ],
      "execution_count": 15,
      "outputs": [
        {
          "output_type": "stream",
          "name": "stdout",
          "text": [
            "[youtube] NPCD8XwHUR0: Downloading webpage\n",
            "[download] squid_mugunghwa.mp4 has already been downloaded\n",
            "\u001b[K[download] 100% of 1.21MiB\n"
          ]
        }
      ]
    },
    {
      "cell_type": "code",
      "metadata": {
        "colab": {
          "base_uri": "https://localhost:8080/"
        },
        "id": "lDBCLBfoyW8k",
        "outputId": "bc82e281-ccf1-472f-e792-852c1ffda87d"
      },
      "source": [
        "!youtube-dl -f 'bestaudio[ext=mp3]' --output $squid_mugunghwa.mp3 https://www.youtube.com/watch?v=NPCD8XwHUR0 --extract-audio --audio-format mp3'"
      ],
      "execution_count": 21,
      "outputs": [
        {
          "output_type": "stream",
          "name": "stdout",
          "text": [
            "/bin/bash: -c: line 0: unexpected EOF while looking for matching `''\n",
            "/bin/bash: -c: line 1: syntax error: unexpected end of file\n"
          ]
        }
      ]
    },
    {
      "cell_type": "code",
      "metadata": {
        "colab": {
          "base_uri": "https://localhost:8080/"
        },
        "id": "tbi7HdgZy32j",
        "outputId": "504a15b5-7b64-4349-e985-cd6ab8fb13dc"
      },
      "source": [
        "!youtube-dl -f 140 https://www.youtube.com/watch?v=NPCD8XwHUR0"
      ],
      "execution_count": 27,
      "outputs": [
        {
          "output_type": "stream",
          "name": "stdout",
          "text": [
            "[youtube] NPCD8XwHUR0: Downloading webpage\n",
            "[download] Destination: Squid Game ringtone 오징어 게임  - 무공화 꽃이 피었습니다-NPCD8XwHUR0.m4a\n",
            "\u001b[K[download] 100% of 550.08KiB in 00:00\n",
            "[ffmpeg] Correcting container in \"Squid Game ringtone 오징어 게임  - 무공화 꽃이 피었습니다-NPCD8XwHUR0.m4a\"\n"
          ]
        }
      ]
    },
    {
      "cell_type": "code",
      "metadata": {
        "colab": {
          "base_uri": "https://localhost:8080/"
        },
        "id": "gbBvKpzrxYFK",
        "outputId": "4ea507e1-ef9d-4648-fcba-b30a0e76496f"
      },
      "source": [
        "!youtube-dl -F  https://www.youtube.com/watch?v=NPCD8XwHUR0"
      ],
      "execution_count": 19,
      "outputs": [
        {
          "output_type": "stream",
          "name": "stdout",
          "text": [
            "[youtube] NPCD8XwHUR0: Downloading webpage\n",
            "[info] Available formats for NPCD8XwHUR0:\n",
            "format code  extension  resolution note\n",
            "249          webm       audio only tiny   47k , webm_dash container, opus @ 47k (48000Hz), 202.50KiB\n",
            "250          webm       audio only tiny   59k , webm_dash container, opus @ 59k (48000Hz), 253.04KiB\n",
            "251          webm       audio only tiny  116k , webm_dash container, opus @116k (48000Hz), 492.57KiB\n",
            "140          m4a        audio only tiny  129k , m4a_dash container, mp4a.40.2@129k (44100Hz), 550.08KiB\n",
            "160          mp4        254x144    144p   25k , mp4_dash container, avc1.4d400c@  25k, 30fps, video only, 108.82KiB\n",
            "278          webm       254x144    144p   26k , webm_dash container, vp9@  26k, 30fps, video only, 112.80KiB\n",
            "242          webm       424x240    240p   36k , webm_dash container, vp9@  36k, 30fps, video only, 153.04KiB\n",
            "133          mp4        424x240    240p   43k , mp4_dash container, avc1.4d4015@  43k, 30fps, video only, 183.63KiB\n",
            "243          webm       636x360    360p   43k , webm_dash container, vp9@  43k, 30fps, video only, 186.35KiB\n",
            "134          mp4        636x360    360p   68k , mp4_dash container, avc1.4d401e@  68k, 30fps, video only, 290.41KiB\n",
            "244          webm       848x480    480p   56k , webm_dash container, vp9@  56k, 30fps, video only, 239.55KiB\n",
            "135          mp4        848x480    480p  108k , mp4_dash container, avc1.4d401f@ 108k, 30fps, video only, 458.16KiB\n",
            "247          webm       1270x720   720p   93k , webm_dash container, vp9@  93k, 30fps, video only, 396.66KiB\n",
            "136          mp4        1270x720   720p  178k , mp4_dash container, avc1.64001f@ 178k, 30fps, video only, 756.71KiB\n",
            "248          webm       1906x1080  1080p  105k , webm_dash container, vp9@ 105k, 30fps, video only, 444.80KiB\n",
            "137          mp4        1906x1080  1080p  291k , mp4_dash container, avc1.640028@ 291k, 30fps, video only, 1.21MiB\n",
            "18           mp4        636x360    360p  164k , avc1.42001E, 30fps, mp4a.40.2 (44100Hz), 698.72KiB\n",
            "22           mp4        1270x720   720p  307k , avc1.64001F, 30fps, mp4a.40.2 (44100Hz) (best)\n"
          ]
        }
      ]
    },
    {
      "cell_type": "code",
      "metadata": {
        "colab": {
          "base_uri": "https://localhost:8080/"
        },
        "id": "qSydgmv81v04",
        "outputId": "098082ab-27c2-45fa-a3b8-2468a96a7d19"
      },
      "source": [
        "# ffmpeg -i filename.mp4 filename.mp3\n",
        "\n",
        "\n",
        "def to_mp3(mp4):\n",
        "  print(\"Converting\", mp4)\n",
        "  !ffmpeg -i $mp4 -t 6 -q:a 8 $mp4\".mp3\"\n",
        "\n",
        "to_mp3('/content/squid_mugunghwa.m4a')"
      ],
      "execution_count": 33,
      "outputs": [
        {
          "output_type": "stream",
          "name": "stdout",
          "text": [
            "Converting /content/squid_mugunghwa.m4a\n",
            "ffmpeg version 3.4.8-0ubuntu0.2 Copyright (c) 2000-2020 the FFmpeg developers\n",
            "  built with gcc 7 (Ubuntu 7.5.0-3ubuntu1~18.04)\n",
            "  configuration: --prefix=/usr --extra-version=0ubuntu0.2 --toolchain=hardened --libdir=/usr/lib/x86_64-linux-gnu --incdir=/usr/include/x86_64-linux-gnu --enable-gpl --disable-stripping --enable-avresample --enable-avisynth --enable-gnutls --enable-ladspa --enable-libass --enable-libbluray --enable-libbs2b --enable-libcaca --enable-libcdio --enable-libflite --enable-libfontconfig --enable-libfreetype --enable-libfribidi --enable-libgme --enable-libgsm --enable-libmp3lame --enable-libmysofa --enable-libopenjpeg --enable-libopenmpt --enable-libopus --enable-libpulse --enable-librubberband --enable-librsvg --enable-libshine --enable-libsnappy --enable-libsoxr --enable-libspeex --enable-libssh --enable-libtheora --enable-libtwolame --enable-libvorbis --enable-libvpx --enable-libwavpack --enable-libwebp --enable-libx265 --enable-libxml2 --enable-libxvid --enable-libzmq --enable-libzvbi --enable-omx --enable-openal --enable-opengl --enable-sdl2 --enable-libdc1394 --enable-libdrm --enable-libiec61883 --enable-chromaprint --enable-frei0r --enable-libopencv --enable-libx264 --enable-shared\n",
            "  libavutil      55. 78.100 / 55. 78.100\n",
            "  libavcodec     57.107.100 / 57.107.100\n",
            "  libavformat    57. 83.100 / 57. 83.100\n",
            "  libavdevice    57. 10.100 / 57. 10.100\n",
            "  libavfilter     6.107.100 /  6.107.100\n",
            "  libavresample   3.  7.  0 /  3.  7.  0\n",
            "  libswscale      4.  8.100 /  4.  8.100\n",
            "  libswresample   2.  9.100 /  2.  9.100\n",
            "  libpostproc    54.  7.100 / 54.  7.100\n",
            "Input #0, mov,mp4,m4a,3gp,3g2,mj2, from '/content/squid_mugunghwa.m4a':\n",
            "  Metadata:\n",
            "    major_brand     : isom\n",
            "    minor_version   : 512\n",
            "    compatible_brands: isomiso2mp41\n",
            "    encoder         : Lavf57.83.100\n",
            "  Duration: 00:00:34.76, start: 0.000000, bitrate: 129 kb/s\n",
            "    Stream #0:0(und): Audio: aac (LC) (mp4a / 0x6134706D), 44100 Hz, stereo, fltp, 127 kb/s (default)\n",
            "    Metadata:\n",
            "      handler_name    : SoundHandler\n",
            "File '/content/squid_mugunghwa.m4a.mp3' already exists. Overwrite ? [y/N] y\n",
            "Stream mapping:\n",
            "  Stream #0:0 -> #0:0 (aac (native) -> mp3 (libmp3lame))\n",
            "Press [q] to stop, [?] for help\n",
            "Output #0, mp3, to '/content/squid_mugunghwa.m4a.mp3':\n",
            "  Metadata:\n",
            "    major_brand     : isom\n",
            "    minor_version   : 512\n",
            "    compatible_brands: isomiso2mp41\n",
            "    TSSE            : Lavf57.83.100\n",
            "    Stream #0:0(und): Audio: mp3 (libmp3lame), 44100 Hz, stereo, fltp (default)\n",
            "    Metadata:\n",
            "      handler_name    : SoundHandler\n",
            "      encoder         : Lavc57.107.100 libmp3lame\n",
            "size=      31kB time=00:00:06.00 bitrate=  42.2kbits/s speed=67.2x    \n",
            "video:0kB audio:31kB subtitle:0kB other streams:0kB global headers:0kB muxing overhead: 1.122556%\n"
          ]
        }
      ]
    },
    {
      "cell_type": "code",
      "metadata": {
        "id": "D3RFva1t3ya9",
        "outputId": "b14aa04c-ec00-4740-de5b-da7ac0420622",
        "colab": {
          "base_uri": "https://localhost:8080/",
          "height": 75
        }
      },
      "source": [
        "from IPython.display import Audio\n",
        "# from scipy.io import wavfile\n",
        "\n",
        "def play_audio(filename):\n",
        "  return Audio(filename, autoplay=True)\n",
        "\n",
        "play_audio('squid_mugunghwa.m4a.mp3')"
      ],
      "execution_count": 51,
      "outputs": [
        {
          "output_type": "execute_result",
          "data": {
            "text/html": [
              "\n",
              "                <audio controls=\"controls\" autoplay=\"autoplay\">\n",
              "                    <source src=\"data:audio/mpeg;base64,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\" type=\"audio/mpeg\" />\n",
              "                    Your browser does not support the audio element.\n",
              "                </audio>\n",
              "              "
            ],
            "text/plain": [
              "<IPython.lib.display.Audio object>"
            ]
          },
          "metadata": {},
          "execution_count": 51
        }
      ]
    },
    {
      "cell_type": "code",
      "metadata": {
        "id": "-jQU_Lu-6vuT"
      },
      "source": [
        "import base64\n",
        "import html\n",
        "import io\n",
        "import time\n",
        "\n",
        "from IPython.display import display, Javascript\n",
        "from google.colab.output import eval_js\n",
        "import numpy as np\n",
        "from PIL import Image\n",
        "import cv2\n",
        "\n",
        "def start_input():\n",
        "  js = Javascript('''\n",
        "    var video;\n",
        "    var div = null;\n",
        "    var stream;\n",
        "    var captureCanvas;\n",
        "    var imgElement;\n",
        "    var labelElement;\n",
        "    \n",
        "    var pendingResolve = null;\n",
        "    var shutdown = false;\n",
        "    \n",
        "    function removeDom() {\n",
        "       stream.getVideoTracks()[0].stop();\n",
        "       video.remove();\n",
        "       div.remove();\n",
        "       video = null;\n",
        "       div = null;\n",
        "       stream = null;\n",
        "       imgElement = null;\n",
        "       captureCanvas = null;\n",
        "       labelElement = null;\n",
        "    }\n",
        "    \n",
        "    function onAnimationFrame() {\n",
        "      if (!shutdown) {\n",
        "        window.requestAnimationFrame(onAnimationFrame);\n",
        "      }\n",
        "      if (pendingResolve) {\n",
        "        var result = \"\";\n",
        "        if (!shutdown) {\n",
        "          captureCanvas.getContext('2d').drawImage(video, 0, 0, 512, 512);\n",
        "          result = captureCanvas.toDataURL('image/jpeg', 0.8)\n",
        "        }\n",
        "        var lp = pendingResolve;\n",
        "        pendingResolve = null;\n",
        "        lp(result);\n",
        "      }\n",
        "    }\n",
        "    \n",
        "    async function createDom() {\n",
        "      if (div !== null) {\n",
        "        return stream;\n",
        "      }\n",
        "\n",
        "      div = document.createElement('div');\n",
        "      div.style.border = '2px solid black';\n",
        "      div.style.padding = '3px';\n",
        "      div.style.width = '100%';\n",
        "      div.style.maxWidth = '600px';\n",
        "      document.body.appendChild(div);\n",
        "      \n",
        "      const modelOut = document.createElement('div');\n",
        "      modelOut.innerHTML = \"<span>Status:</span>\";\n",
        "      labelElement = document.createElement('span');\n",
        "      labelElement.innerText = 'No data';\n",
        "      labelElement.style.fontWeight = 'bold';\n",
        "      modelOut.appendChild(labelElement);\n",
        "      div.appendChild(modelOut);\n",
        "           \n",
        "      video = document.createElement('video');\n",
        "      video.style.display = 'block';\n",
        "      video.width = div.clientWidth - 6;\n",
        "      video.setAttribute('playsinline', '');\n",
        "      video.onclick = () => { shutdown = true; };\n",
        "      stream = await navigator.mediaDevices.getUserMedia(\n",
        "          {video: { facingMode: \"environment\"}});\n",
        "      div.appendChild(video);\n",
        "\n",
        "      imgElement = document.createElement('img');\n",
        "      imgElement.style.position = 'absolute';\n",
        "      imgElement.style.zIndex = 1;\n",
        "      imgElement.onclick = () => { shutdown = true; };\n",
        "      div.appendChild(imgElement);\n",
        "      \n",
        "      const instruction = document.createElement('div');\n",
        "      instruction.innerHTML = \n",
        "          '<span style=\"color: red; font-weight: bold;\">' +\n",
        "          'When finished, click here or on the video to stop this demo</span>';\n",
        "      div.appendChild(instruction);\n",
        "      instruction.onclick = () => { shutdown = true; };\n",
        "      \n",
        "      video.srcObject = stream;\n",
        "      await video.play();\n",
        "\n",
        "      captureCanvas = document.createElement('canvas');\n",
        "      captureCanvas.width = 512; //video.videoWidth;\n",
        "      captureCanvas.height = 512; //video.videoHeight;\n",
        "      window.requestAnimationFrame(onAnimationFrame);\n",
        "      \n",
        "      return stream;\n",
        "    }\n",
        "\n",
        "    async function takePhoto(label, imgData) {\n",
        "      if (shutdown) {\n",
        "        removeDom();\n",
        "        shutdown = false;\n",
        "        return '';\n",
        "      }\n",
        "\n",
        "      var preCreate = Date.now();\n",
        "      stream = await createDom();\n",
        "      \n",
        "      var preShow = Date.now();\n",
        "      if (label != \"\") {\n",
        "        labelElement.innerHTML = label;\n",
        "      }\n",
        "            \n",
        "      if (imgData != \"\") {\n",
        "        var videoRect = video.getClientRects()[0];\n",
        "        imgElement.style.top = videoRect.top + \"px\";\n",
        "        imgElement.style.left = videoRect.left + \"px\";\n",
        "        imgElement.style.width = videoRect.width + \"px\";\n",
        "        imgElement.style.height = videoRect.height + \"px\";\n",
        "        imgElement.src = imgData;\n",
        "      }\n",
        "      \n",
        "      var preCapture = Date.now();\n",
        "      var result = await new Promise(function(resolve, reject) {\n",
        "        pendingResolve = resolve;\n",
        "      });\n",
        "      shutdown = false;\n",
        "      \n",
        "      return {'create': preShow - preCreate, \n",
        "              'show': preCapture - preShow, \n",
        "              'capture': Date.now() - preCapture,\n",
        "              'img': result};\n",
        "    }\n",
        "    ''')\n",
        "\n",
        "  display(js)\n",
        "  \n",
        "def take_live_photo(label, img_data):\n",
        "  data = eval_js('takePhoto(\"{}\", \"{}\")'.format(label, img_data))\n",
        "  return data"
      ],
      "execution_count": 34,
      "outputs": []
    },
    {
      "cell_type": "code",
      "metadata": {
        "id": "OkTFlEhd67Yj"
      },
      "source": [
        "def js_reply_to_image(js_reply):\n",
        "    \"\"\"\n",
        "    input: \n",
        "          js_reply: JavaScript object, contain image from webcam\n",
        "\n",
        "    output: \n",
        "          image_array: image array from webcam\n",
        "    \"\"\"\n",
        "    jpeg_bytes = base64.b64decode(js_reply['img'].split(',')[1])\n",
        "    image_PIL = Image.open(io.BytesIO(jpeg_bytes))\n",
        "    return np.asarray(image_PIL)\n",
        "\n",
        "def image_to_bytes(image_openpose):\n",
        "    image = Image.fromarray(image_openpose, 'RGB')\n",
        "    iobuf = io.BytesIO()\n",
        "    image.save(iobuf, format='png')\n",
        "    drawing_bytes = 'data:image/png;base64,{}'.format((str(base64.b64encode(iobuf.getvalue()), 'utf-8')))\n",
        "    return drawing_bytes"
      ],
      "execution_count": 32,
      "outputs": []
    },
    {
      "cell_type": "code",
      "metadata": {
        "id": "GJR2_1dn7B6S",
        "outputId": "c124756f-e4ee-482e-e7b6-0ea580948cd3",
        "colab": {
          "base_uri": "https://localhost:8080/",
          "height": 370
        }
      },
      "source": [
        "import time\n",
        "\n",
        "from IPython.display import clear_output \n",
        "\n",
        "import IPython.display as ipd\n",
        "\n",
        "start_input()\n",
        "label_html = 'Capturing...'\n",
        "img_data = ''\n",
        "\n",
        "# for i in range(5):\n",
        "while True:\n",
        "  js_reply = take_live_photo(label_html, img_data)\n",
        "  if not js_reply:\n",
        "      break\n",
        "\n",
        "  image = js_reply_to_image(js_reply)\n",
        "\n",
        "  # humans = e.inference(image,\n",
        "  #                      resize_to_default=(w > 0 and h > 0),\n",
        "  #                      upsample_size=4.0)\n",
        "  # image_openpose = TfPoseEstimator.draw_humans(image, humans, imgcopy=False)\n",
        "\n",
        "  # drawing_bytes = image_to_bytes(image_openpose)\n",
        "  drawing_bytes = image_to_bytes(image)\n",
        "  img_data = drawing_bytes\n",
        "  \n",
        "  ipd.display(ipd.Audio('squid_mugunghwa.m4a.mp3', autoplay=True))\n",
        "\n",
        "  ipd.set_matplotlib_close(close=True)\n",
        "\n",
        "\n",
        "  time.sleep(8)\n",
        "\n",
        "  clear_output()\n",
        "\n"
      ],
      "execution_count": 36,
      "outputs": [
        {
          "output_type": "error",
          "ename": "MessageError",
          "evalue": "ignored",
          "traceback": [
            "\u001b[0;31m---------------------------------------------------------------------------\u001b[0m",
            "\u001b[0;31mMessageError\u001b[0m                              Traceback (most recent call last)",
            "\u001b[0;32m<ipython-input-36-5c0a34ea1762>\u001b[0m in \u001b[0;36m<module>\u001b[0;34m()\u001b[0m\n\u001b[1;32m     11\u001b[0m \u001b[0;31m# for i in range(5):\u001b[0m\u001b[0;34m\u001b[0m\u001b[0;34m\u001b[0m\u001b[0;34m\u001b[0m\u001b[0m\n\u001b[1;32m     12\u001b[0m \u001b[0;32mwhile\u001b[0m \u001b[0;32mTrue\u001b[0m\u001b[0;34m:\u001b[0m\u001b[0;34m\u001b[0m\u001b[0;34m\u001b[0m\u001b[0m\n\u001b[0;32m---> 13\u001b[0;31m   \u001b[0mjs_reply\u001b[0m \u001b[0;34m=\u001b[0m \u001b[0mtake_live_photo\u001b[0m\u001b[0;34m(\u001b[0m\u001b[0mlabel_html\u001b[0m\u001b[0;34m,\u001b[0m \u001b[0mimg_data\u001b[0m\u001b[0;34m)\u001b[0m\u001b[0;34m\u001b[0m\u001b[0;34m\u001b[0m\u001b[0m\n\u001b[0m\u001b[1;32m     14\u001b[0m   \u001b[0;32mif\u001b[0m \u001b[0;32mnot\u001b[0m \u001b[0mjs_reply\u001b[0m\u001b[0;34m:\u001b[0m\u001b[0;34m\u001b[0m\u001b[0;34m\u001b[0m\u001b[0m\n\u001b[1;32m     15\u001b[0m       \u001b[0;32mbreak\u001b[0m\u001b[0;34m\u001b[0m\u001b[0;34m\u001b[0m\u001b[0m\n",
            "\u001b[0;32m<ipython-input-34-504153063129>\u001b[0m in \u001b[0;36mtake_live_photo\u001b[0;34m(label, img_data)\u001b[0m\n\u001b[1;32m    143\u001b[0m \u001b[0;34m\u001b[0m\u001b[0m\n\u001b[1;32m    144\u001b[0m \u001b[0;32mdef\u001b[0m \u001b[0mtake_live_photo\u001b[0m\u001b[0;34m(\u001b[0m\u001b[0mlabel\u001b[0m\u001b[0;34m,\u001b[0m \u001b[0mimg_data\u001b[0m\u001b[0;34m)\u001b[0m\u001b[0;34m:\u001b[0m\u001b[0;34m\u001b[0m\u001b[0;34m\u001b[0m\u001b[0m\n\u001b[0;32m--> 145\u001b[0;31m   \u001b[0mdata\u001b[0m \u001b[0;34m=\u001b[0m \u001b[0meval_js\u001b[0m\u001b[0;34m(\u001b[0m\u001b[0;34m'takePhoto(\"{}\", \"{}\")'\u001b[0m\u001b[0;34m.\u001b[0m\u001b[0mformat\u001b[0m\u001b[0;34m(\u001b[0m\u001b[0mlabel\u001b[0m\u001b[0;34m,\u001b[0m \u001b[0mimg_data\u001b[0m\u001b[0;34m)\u001b[0m\u001b[0;34m)\u001b[0m\u001b[0;34m\u001b[0m\u001b[0;34m\u001b[0m\u001b[0m\n\u001b[0m\u001b[1;32m    146\u001b[0m   \u001b[0;32mreturn\u001b[0m \u001b[0mdata\u001b[0m\u001b[0;34m\u001b[0m\u001b[0;34m\u001b[0m\u001b[0m\n",
            "\u001b[0;32m/usr/local/lib/python3.7/dist-packages/google/colab/output/_js.py\u001b[0m in \u001b[0;36meval_js\u001b[0;34m(script, ignore_result, timeout_sec)\u001b[0m\n\u001b[1;32m     38\u001b[0m   \u001b[0;32mif\u001b[0m \u001b[0mignore_result\u001b[0m\u001b[0;34m:\u001b[0m\u001b[0;34m\u001b[0m\u001b[0;34m\u001b[0m\u001b[0m\n\u001b[1;32m     39\u001b[0m     \u001b[0;32mreturn\u001b[0m\u001b[0;34m\u001b[0m\u001b[0;34m\u001b[0m\u001b[0m\n\u001b[0;32m---> 40\u001b[0;31m   \u001b[0;32mreturn\u001b[0m \u001b[0m_message\u001b[0m\u001b[0;34m.\u001b[0m\u001b[0mread_reply_from_input\u001b[0m\u001b[0;34m(\u001b[0m\u001b[0mrequest_id\u001b[0m\u001b[0;34m,\u001b[0m \u001b[0mtimeout_sec\u001b[0m\u001b[0;34m)\u001b[0m\u001b[0;34m\u001b[0m\u001b[0;34m\u001b[0m\u001b[0m\n\u001b[0m\u001b[1;32m     41\u001b[0m \u001b[0;34m\u001b[0m\u001b[0m\n\u001b[1;32m     42\u001b[0m \u001b[0;34m\u001b[0m\u001b[0m\n",
            "\u001b[0;32m/usr/local/lib/python3.7/dist-packages/google/colab/_message.py\u001b[0m in \u001b[0;36mread_reply_from_input\u001b[0;34m(message_id, timeout_sec)\u001b[0m\n\u001b[1;32m    104\u001b[0m         reply.get('colab_msg_id') == message_id):\n\u001b[1;32m    105\u001b[0m       \u001b[0;32mif\u001b[0m \u001b[0;34m'error'\u001b[0m \u001b[0;32min\u001b[0m \u001b[0mreply\u001b[0m\u001b[0;34m:\u001b[0m\u001b[0;34m\u001b[0m\u001b[0;34m\u001b[0m\u001b[0m\n\u001b[0;32m--> 106\u001b[0;31m         \u001b[0;32mraise\u001b[0m \u001b[0mMessageError\u001b[0m\u001b[0;34m(\u001b[0m\u001b[0mreply\u001b[0m\u001b[0;34m[\u001b[0m\u001b[0;34m'error'\u001b[0m\u001b[0;34m]\u001b[0m\u001b[0;34m)\u001b[0m\u001b[0;34m\u001b[0m\u001b[0;34m\u001b[0m\u001b[0m\n\u001b[0m\u001b[1;32m    107\u001b[0m       \u001b[0;32mreturn\u001b[0m \u001b[0mreply\u001b[0m\u001b[0;34m.\u001b[0m\u001b[0mget\u001b[0m\u001b[0;34m(\u001b[0m\u001b[0;34m'data'\u001b[0m\u001b[0;34m,\u001b[0m \u001b[0;32mNone\u001b[0m\u001b[0;34m)\u001b[0m\u001b[0;34m\u001b[0m\u001b[0;34m\u001b[0m\u001b[0m\n\u001b[1;32m    108\u001b[0m \u001b[0;34m\u001b[0m\u001b[0m\n",
            "\u001b[0;31mMessageError\u001b[0m: ReferenceError: takePhoto is not defined"
          ]
        }
      ]
    },
    {
      "cell_type": "code",
      "metadata": {
        "id": "2VSNeLebDeaN"
      },
      "source": [
        ""
      ],
      "execution_count": null,
      "outputs": []
    }
  ]
}
