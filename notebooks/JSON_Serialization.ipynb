{
  "nbformat": 4,
  "nbformat_minor": 0,
  "metadata": {
    "colab": {
      "name": "JSON_Serialization.ipynb",
      "provenance": [],
      "toc_visible": true,
      "authorship_tag": "ABX9TyM8zZ2g3wpRyt+reo11f2ku",
      "include_colab_link": true
    },
    "kernelspec": {
      "name": "python3",
      "display_name": "Python 3"
    },
    "language_info": {
      "name": "python"
    }
  },
  "cells": [
    {
      "cell_type": "markdown",
      "metadata": {
        "id": "view-in-github",
        "colab_type": "text"
      },
      "source": [
        "<a href=\"https://colab.research.google.com/github/changsin/Medium/blob/main/notebooks/JSON_Serialization.ipynb\" target=\"_parent\"><img src=\"https://colab.research.google.com/assets/colab-badge.svg\" alt=\"Open In Colab\"/></a>"
      ]
    },
    {
      "cell_type": "markdown",
      "metadata": {
        "id": "dWJ2REDurI_A"
      },
      "source": [
        "# JSON Serialization\n",
        "Serialization is the process of turning an object into something that can be saved and retrieved later: e.g., displaying an object print or saving into a file. For basic types like string, int or Boolean, you don't need to do anything special to print and save them in Python. For custom objects like instances of a class you defined, things are not quite straightforward. Here is the summary of the issues that you will encounter and how you can solve them."
      ]
    },
    {
      "cell_type": "markdown",
      "metadata": {
        "id": "hqIm-bLVru5X"
      },
      "source": [
        "# 1. Use \\__dict\\__ for simple types\n",
        "Simple types can be serialized as a dictionary object."
      ]
    },
    {
      "cell_type": "code",
      "metadata": {
        "colab": {
          "base_uri": "https://localhost:8080/"
        },
        "id": "-gS6X_Npqyfd",
        "outputId": "0955a3dd-a566-479c-c949-28cf14638c72"
      },
      "source": [
        "class LabelSimple:\n",
        "    def __init__(self, label, x, y, width, height):\n",
        "        self.label = label\n",
        "        self.x = x\n",
        "        self.y = y\n",
        "        self.width = width\n",
        "        self.height = height\n",
        "\n",
        "label = LabelSimple(\"person\", 10, 10, 4, 10)\n",
        "print(label)\n",
        "print(label.__dict__)"
      ],
      "execution_count": 9,
      "outputs": [
        {
          "output_type": "stream",
          "name": "stdout",
          "text": [
            "<__main__.LabelSimple object at 0x7f5e3d8ed490>\n",
            "{'label': 'person', 'x': 10, 'y': 10, 'width': 4, 'height': 10}\n"
          ]
        }
      ]
    },
    {
      "cell_type": "markdown",
      "metadata": {
        "id": "hy2Ah8GVIEYq"
      },
      "source": [
        "But this method doesn't work if you want to use json.dumps() which is a default method of serializing an object into a JSON object in Python."
      ]
    },
    {
      "cell_type": "code",
      "metadata": {
        "colab": {
          "base_uri": "https://localhost:8080/"
        },
        "id": "jBbJyVpxrjPk",
        "outputId": "fa6b4279-5538-4734-e375-0ad3c690859c"
      },
      "source": [
        "import json\n",
        "\n",
        "print(json.dumps(image_label.__dict__))"
      ],
      "execution_count": 6,
      "outputs": [
        {
          "output_type": "stream",
          "name": "stdout",
          "text": [
            "{\"label\": \"person\", \"x\": 10, \"y\": 10, \"width\": 4, \"height\": 10}\n"
          ]
        }
      ]
    },
    {
      "cell_type": "markdown",
      "metadata": {
        "id": "Qy55OFuAuzPX"
      },
      "source": [
        "# 2. Implement \\__str__ or \\__repr__ method\n",
        "Both __str__ and __repr__ are a string representation of the object. Then what is the difference? The main difference between __str__ and __repr__ is the intended audience. __str__ is the string representation of the object for display purposes while __repr__ is to the machine (other methods, etc.) [ref](https://www.pythontutorial.net/python-oop/python-__repr__/).\n",
        "\n",
        "By implementing either or both methods, you do not have to explicitly call json.dumps() to return the JSON string of the object. In our case"
      ]
    },
    {
      "cell_type": "code",
      "metadata": {
        "colab": {
          "base_uri": "https://localhost:8080/"
        },
        "id": "q2KI82Ttr98u",
        "outputId": "0561d1b7-dfef-41cb-e89b-d6fd3f548a7c"
      },
      "source": [
        "class Label:\n",
        "    def __init__(self, label, x, y, width, height):\n",
        "        self.label = label\n",
        "        self.x = x\n",
        "        self.y = y\n",
        "        self.width = width\n",
        "        self.height = height\n",
        "\n",
        "    def __iter__(self):\n",
        "        yield from {\n",
        "            \"label\": self.label,\n",
        "            \"x\": self.x,\n",
        "            \"y\": self.y,\n",
        "            \"width\": self.width,\n",
        "            \"height\": self.height\n",
        "        }.items()\n",
        "\n",
        "    def __str__(self):\n",
        "        return json.dumps(dict(self), ensure_ascii=False)\n",
        "        # json.dumps basically does this in this case.\n",
        "        # return str({\n",
        "        #     \"label\": self.label,\n",
        "        #     \"x\": self.x,\n",
        "        #     \"y\": self.y,\n",
        "        #     \"width\": self.width,\n",
        "        #     \"height\": self.height\n",
        "        # })\n",
        "\n",
        "    def __repr__(self):\n",
        "        return self.__str__()\n",
        "\n",
        "label = Label(\"person\", 10, 10, 4, 10)\n",
        "\n",
        "print(label)\n",
        "# but you cannot call json.dumps on the object since there is no JSONEncoder\n",
        "# print(json.dumps(label))"
      ],
      "execution_count": 10,
      "outputs": [
        {
          "output_type": "stream",
          "name": "stdout",
          "text": [
            "{\"label\": \"person\", \"x\": 10, \"y\": 10, \"width\": 4, \"height\": 10}\n"
          ]
        }
      ]
    },
    {
      "cell_type": "markdown",
      "metadata": {
        "id": "nPuFjCnsxcHE"
      },
      "source": [
        "# 3. Subclass Encoder\n",
        "To support the json.dumps use case, one way is to implement a custom JSONEncoder class. The pros of this approach is that you don't have to implement extra methods like __str__ or __repr__ and supports a wide variety of class object types. The disadvantage is that you have to implement a custom class.\n"
      ]
    },
    {
      "cell_type": "code",
      "metadata": {
        "colab": {
          "base_uri": "https://localhost:8080/"
        },
        "id": "oC5A6bIKxEgN",
        "outputId": "ae4f7d1a-60e8-40b9-e583-59319eb81a19"
      },
      "source": [
        "from json import JSONEncoder\n",
        "\n",
        "class MyEncoder(JSONEncoder):\n",
        "    def default(self, obj):\n",
        "        return obj.__dict__    \n",
        "\n",
        "label_simple = LabelSimple(\"person\", 10, 10, 4, 10)\n",
        "\n",
        "print(MyEncoder().encode(label_simple))\n",
        "print(label_simple)\n",
        "print(json.dumps(label_simple, cls=MyEncoder))\n",
        "\n",
        "\n",
        "label = Label(\"person\", 10, 10, 4, 10)\n",
        "print(MyEncoder().encode(label))\n",
        "print(label)\n",
        "print(json.dumps(label, cls=MyEncoder))"
      ],
      "execution_count": 13,
      "outputs": [
        {
          "output_type": "stream",
          "name": "stdout",
          "text": [
            "{\"label\": \"person\", \"x\": 10, \"y\": 10, \"width\": 4, \"height\": 10}\n",
            "<__main__.LabelSimple object at 0x7f5e3d8dc7d0>\n",
            "{\"label\": \"person\", \"x\": 10, \"y\": 10, \"width\": 4, \"height\": 10}\n",
            "{\"label\": \"person\", \"x\": 10, \"y\": 10, \"width\": 4, \"height\": 10}\n",
            "{\"label\": \"person\", \"x\": 10, \"y\": 10, \"width\": 4, \"height\": 10}\n",
            "{\"label\": \"person\", \"x\": 10, \"y\": 10, \"width\": 4, \"height\": 10}\n"
          ]
        }
      ]
    },
    {
      "cell_type": "markdown",
      "metadata": {
        "id": "FQ7mn_aezAf-"
      },
      "source": [
        "# 4. Handling complex classes\n",
        "While the above solutions work for serializing simple classes, if you have more complex classes that include other custom objects, things do not work quite well. Let's suppose that you have another class \"ImageLabelCollection\" which contains a list of boundingBoxes which is a dictionary with a image file name and a list of bounding boxes for in the image. Below is a sample JSON file."
      ]
    },
    {
      "cell_type": "code",
      "metadata": {
        "colab": {
          "base_uri": "https://localhost:8080/"
        },
        "id": "dDJH7WaM2aAm",
        "outputId": "0d85aa6b-7e34-4be6-9a9d-1eba48c0ea5c"
      },
      "source": [
        "{\n",
        "  \"version\": 1,\n",
        "  \"type\": \"bounding-box-labels\",\n",
        "  \"boundingBoxes\": {\n",
        "    \"20210715_111300 16.jpg\": [\n",
        "      {\n",
        "        \"label\": \"StabilityOff\",\n",
        "        \"x\": 1,\n",
        "        \"y\": 1025,\n",
        "        \"width\": 553,\n",
        "        \"height\": 29\n",
        "      },\n",
        "      {\n",
        "        \"label\": \"StabilityOn\",\n",
        "        \"x\": 1,\n",
        "        \"y\": 964,\n",
        "        \"width\": 563,\n",
        "        \"height\": 30\n",
        "      },\n",
        "    ]\n",
        "  }\n",
        "}"
      ],
      "execution_count": null,
      "outputs": [
        {
          "output_type": "execute_result",
          "data": {
            "text/plain": [
              "{'boundingBoxes': {'20210715_111300 16.jpg': [{'height': 29,\n",
              "    'label': 'StabilityOff',\n",
              "    'width': 553,\n",
              "    'x': 1,\n",
              "    'y': 1025},\n",
              "   {'height': 30, 'label': 'StabilityOn', 'width': 563, 'x': 1, 'y': 964}]},\n",
              " 'type': 'bounding-box-labels',\n",
              " 'version': 1}"
            ]
          },
          "metadata": {},
          "execution_count": 56
        }
      ]
    },
    {
      "cell_type": "markdown",
      "metadata": {
        "id": "0kwhTlM52PgS"
      },
      "source": [
        "Let's see how they are serialized."
      ]
    },
    {
      "cell_type": "code",
      "metadata": {
        "colab": {
          "base_uri": "https://localhost:8080/"
        },
        "id": "VzNcIha50w_F",
        "outputId": "685fe4da-67f6-4641-be0b-f8ee8369bbf3"
      },
      "source": [
        "class ImageLabelCollectionBad:\n",
        "    def __init__(self, bboxes):\n",
        "        self.version = 1\n",
        "        self.type = \"bounding-box-labels\"\n",
        "        self.bboxes = bboxes\n",
        "\n",
        "    def __iter__(self):\n",
        "        yield from {\n",
        "            \"version\": self.version,\n",
        "            \"type\": self.type,\n",
        "            \"boundingBoxes\": self.bboxes\n",
        "        }.items()\n",
        "\n",
        "    def __str__(self):\n",
        "        return json.dumps(dict(self), cls=MyEncoder, ensure_ascii=False)\n",
        "        # return json.dumps(dict(self), ensure_ascii=False)\n",
        "\n",
        "    def __repr__(self):\n",
        "        return self.__str__()\n",
        "\n",
        "label1 = Label(\"person\", 10, 10, 4, 10)\n",
        "label2 = Label(\"car\", 20, 20, 5, 11)\n",
        "\n",
        "image_bboxes = {\"image1.jpg\": [label1, label2]}\n",
        "\n",
        "image_label_col_bad = ImageLabelCollectionBad(image_bboxes)\n",
        "print(image_label_col_bad)\n",
        "# print(json.dumps(image_label_col, cls=MyEncoder))"
      ],
      "execution_count": 18,
      "outputs": [
        {
          "output_type": "stream",
          "name": "stdout",
          "text": [
            "{\"version\": 1, \"type\": \"bounding-box-labels\", \"boundingBoxes\": {\"image1.jpg\": [{\"label\": \"person\", \"x\": 10, \"y\": 10, \"width\": 4, \"height\": 10}, {\"label\": \"car\", \"x\": 20, \"y\": 20, \"width\": 5, \"height\": 11}]}}\n"
          ]
        }
      ]
    },
    {
      "cell_type": "markdown",
      "metadata": {
        "id": "hEwT8VPS5NGQ"
      },
      "source": [
        "The first attempt failed because when json.dumps() calls on the ImageLabelCollection object itself, it sees a list of ImageLabel objects which are not JSON serializable and thus the error.\n",
        "\n",
        "The simplest way to fix is to specify the 'cls' parameter."
      ]
    },
    {
      "cell_type": "code",
      "metadata": {
        "colab": {
          "base_uri": "https://localhost:8080/"
        },
        "id": "OCh-BaZh5xiO",
        "outputId": "8a217c05-0557-4c14-b171-aa4a221dd843"
      },
      "source": [
        "class ImageLabelCollection:\n",
        "    def __init__(self, bboxes):\n",
        "        self.version = 1\n",
        "        self.type = \"bounding-box-labels\"\n",
        "        self.bboxes = bboxes\n",
        "\n",
        "    def __iter__(self):\n",
        "        yield from {\n",
        "            \"version\": self.version,\n",
        "            \"type\": self.type,\n",
        "            \"boundingBoxes\": self.bboxes\n",
        "        }.items()\n",
        "\n",
        "    def __str__(self):\n",
        "        return json.dumps(dict(self), cls=MyEncoder, ensure_ascii=False)\n",
        "\n",
        "    def __repr__(self):\n",
        "        return self.__str__()\n",
        "\n",
        "\n",
        "label1 = Label(\"person\", 10, 10, 4, 10)\n",
        "label2 = Label(\"car\", 20, 20, 5, 11)\n",
        "\n",
        "image_bboxes = {\"image1.jpg\": [label1, label2]}\n",
        "\n",
        "image_label_col = ImageLabelCollection(image_bboxes)\n",
        "print(image_label_col)\n",
        "print(json.dumps(image_label_col, cls=MyEncoder))"
      ],
      "execution_count": 17,
      "outputs": [
        {
          "output_type": "stream",
          "name": "stdout",
          "text": [
            "{\"version\": 1, \"type\": \"bounding-box-labels\", \"boundingBoxes\": {\"image1.jpg\": [{\"label\": \"person\", \"x\": 10, \"y\": 10, \"width\": 4, \"height\": 10}, {\"label\": \"car\", \"x\": 20, \"y\": 20, \"width\": 5, \"height\": 11}]}}\n",
            "{\"version\": 1, \"type\": \"bounding-box-labels\", \"bboxes\": {\"image1.jpg\": [{\"label\": \"person\", \"x\": 10, \"y\": 10, \"width\": 4, \"height\": 10}, {\"label\": \"car\", \"x\": 20, \"y\": 20, \"width\": 5, \"height\": 11}]}}\n"
          ]
        }
      ]
    },
    {
      "cell_type": "markdown",
      "metadata": {
        "id": "XIeaCLLR6CAK"
      },
      "source": [
        "This looks a lot better, doesn't it? This method also works with json.dumps if you specify cls parameter as well."
      ]
    },
    {
      "cell_type": "markdown",
      "metadata": {
        "id": "OHLtO7jn9juY"
      },
      "source": [
        "# 5. Implement a custom to_json() method\n",
        "\n",
        "One problem is that you see that the json results are slightly different. The string representation has \"boundingBoxes\" as the key, but with json.dumps() method, the key is \"bboxes\" which is the class variable of ImageLabelCollection. We can tell that, instead of calling the class method __str__, it called MyEncoder's default() method which simply returns __dict__.\n",
        "\n",
        "How can we fix this? A solution is to re-define the default method of the Encoder. Since we are using the same encode for all classes, we have to add to_json() method to both classes."
      ]
    },
    {
      "cell_type": "code",
      "metadata": {
        "colab": {
          "base_uri": "https://localhost:8080/"
        },
        "id": "4TEhPhBn71dx",
        "outputId": "5004972c-705e-4ba6-a614-38ebe30aaae4"
      },
      "source": [
        "class MyJSONEncoder(JSONEncoder):\n",
        "    def default(self, obj):\n",
        "        return obj.to_json()\n",
        "\n",
        "class Label:\n",
        "    def __init__(self, label, x, y, width, height):\n",
        "        self.label = label\n",
        "        self.x = x\n",
        "        self.y = y\n",
        "        self.width = width\n",
        "        self.height = height\n",
        "\n",
        "    def __iter__(self):\n",
        "        yield from {\n",
        "            \"label\": self.label,\n",
        "            \"x\": self.x,\n",
        "            \"y\": self.y,\n",
        "            \"width\": self.width,\n",
        "            \"height\": self.height\n",
        "        }.items()\n",
        "\n",
        "    def __str__(self):\n",
        "        return json.dumps(dict(self), ensure_ascii=False)\n",
        "\n",
        "    def __repr__(self):\n",
        "        return self.__str__()\n",
        "\n",
        "    def to_json(self):\n",
        "        return self.__str__()\n",
        "\n",
        "class ImageLabelCollection:\n",
        "    def __init__(self, bboxes):\n",
        "        self.version = 1\n",
        "        self.type = \"bounding-box-labels\"\n",
        "        self.bboxes = bboxes\n",
        "\n",
        "    def __iter__(self):\n",
        "        yield from {\n",
        "            \"version\": self.version,\n",
        "            \"type\": self.type,\n",
        "            \"boundingBoxes\": self.bboxes\n",
        "        }.items()\n",
        "\n",
        "    def __str__(self):\n",
        "        return json.dumps(dict(self), cls=MyJSONEncoder, ensure_ascii=False)\n",
        "\n",
        "    def __repr__(self):\n",
        "        return self.__str__()\n",
        "\n",
        "    def to_json(self):\n",
        "        return self.__str__()\n",
        "\n",
        "label1 = Label(\"person\", 10, 10, 4, 10)\n",
        "label2 = Label(\"car\", 20, 20, 5, 11)\n",
        "\n",
        "image_bboxes = {\"image1.jpg\": [label1, label2]}\n",
        "\n",
        "image_label_col = ImageLabelCollection(image_bboxes)\n",
        "print(image_label_col)\n",
        "print(image_label_col.to_json())\n",
        "print(json.dumps(image_label_col, cls=MyJSONEncoder))\n",
        "print(json.dumps(image_label_col.to_json()))"
      ],
      "execution_count": 25,
      "outputs": [
        {
          "output_type": "stream",
          "name": "stdout",
          "text": [
            "{\"version\": 1, \"type\": \"bounding-box-labels\", \"boundingBoxes\": {\"image1.jpg\": [\"{\\\"label\\\": \\\"person\\\", \\\"x\\\": 10, \\\"y\\\": 10, \\\"width\\\": 4, \\\"height\\\": 10}\", \"{\\\"label\\\": \\\"car\\\", \\\"x\\\": 20, \\\"y\\\": 20, \\\"width\\\": 5, \\\"height\\\": 11}\"]}}\n",
            "{\"version\": 1, \"type\": \"bounding-box-labels\", \"boundingBoxes\": {\"image1.jpg\": [\"{\\\"label\\\": \\\"person\\\", \\\"x\\\": 10, \\\"y\\\": 10, \\\"width\\\": 4, \\\"height\\\": 10}\", \"{\\\"label\\\": \\\"car\\\", \\\"x\\\": 20, \\\"y\\\": 20, \\\"width\\\": 5, \\\"height\\\": 11}\"]}}\n",
            "\"{\\\"version\\\": 1, \\\"type\\\": \\\"bounding-box-labels\\\", \\\"boundingBoxes\\\": {\\\"image1.jpg\\\": [\\\"{\\\\\\\"label\\\\\\\": \\\\\\\"person\\\\\\\", \\\\\\\"x\\\\\\\": 10, \\\\\\\"y\\\\\\\": 10, \\\\\\\"width\\\\\\\": 4, \\\\\\\"height\\\\\\\": 10}\\\", \\\"{\\\\\\\"label\\\\\\\": \\\\\\\"car\\\\\\\", \\\\\\\"x\\\\\\\": 20, \\\\\\\"y\\\\\\\": 20, \\\\\\\"width\\\\\\\": 5, \\\\\\\"height\\\\\\\": 11}\\\"]}}\"\n",
            "\"{\\\"version\\\": 1, \\\"type\\\": \\\"bounding-box-labels\\\", \\\"boundingBoxes\\\": {\\\"image1.jpg\\\": [\\\"{\\\\\\\"label\\\\\\\": \\\\\\\"person\\\\\\\", \\\\\\\"x\\\\\\\": 10, \\\\\\\"y\\\\\\\": 10, \\\\\\\"width\\\\\\\": 4, \\\\\\\"height\\\\\\\": 10}\\\", \\\"{\\\\\\\"label\\\\\\\": \\\\\\\"car\\\\\\\", \\\\\\\"x\\\\\\\": 20, \\\\\\\"y\\\\\\\": 20, \\\\\\\"width\\\\\\\": 5, \\\\\\\"height\\\\\\\": 11}\\\"]}}\"\n"
          ]
        }
      ]
    },
    {
      "cell_type": "markdown",
      "metadata": {
        "id": "JCIOWlTD-CVF"
      },
      "source": [
        "# 6. Fixing double quotations\n",
        "While we now see boundingBoxes in both cases (simple print and json.dumps), we see a different problem. The ImageLabel classes contained in ImageLabelCollection are turned into strings. This is because we defined __str__ of ImageLabel to return a JSON string representation of the object. When __str__ method of ImageLabelCollection is called, it will try to turn the JSON string into JSON string again. Ouch! We traded one problem with another.\n",
        "\n",
        "A proper way to fix is to refactor to_json() method of ImageLabelCollection class and serialize the contained objects."
      ]
    },
    {
      "cell_type": "code",
      "metadata": {
        "colab": {
          "base_uri": "https://localhost:8080/"
        },
        "id": "A2pvH2bQqVpH",
        "outputId": "03866888-5085-4a27-f4cd-7f84c5b48d4a"
      },
      "source": [
        "def default(obj):\n",
        "    if hasattr(obj, 'to_json'):\n",
        "        return obj.to_json()\n",
        "    raise TypeError(f'Object of type {obj.__class__.__name__} is not JSON serializable')\n",
        "\n",
        "\n",
        "class Label:\n",
        "    def __init__(self, label, x, y, width, height):\n",
        "        self.label = label\n",
        "        self.x = x\n",
        "        self.y = y\n",
        "        self.width = width\n",
        "        self.height = height\n",
        "\n",
        "    def __iter__(self):\n",
        "        yield from {\n",
        "            \"label\": self.label,\n",
        "            \"x\": self.x,\n",
        "            \"y\": self.y,\n",
        "            \"width\": self.width,\n",
        "            \"height\": self.height\n",
        "        }.items()\n",
        "\n",
        "    def __str__(self):\n",
        "        return json.dumps(dict(self), ensure_ascii=False)\n",
        "\n",
        "    def __repr__(self):\n",
        "        return self.__str__()\n",
        "\n",
        "    def to_json(self):\n",
        "        return self.__str__()\n",
        "\n",
        "\n",
        "class ImageLabelCollection:\n",
        "    def __init__(self, bboxes):\n",
        "        self.version = 1\n",
        "        self.type = \"bounding-box-labels\"\n",
        "        self.bboxes = bboxes\n",
        "\n",
        "    def __iter__(self):\n",
        "        yield from {\n",
        "            \"version\": self.version,\n",
        "            \"type\": self.type,\n",
        "            \"boundingBoxes\": self.bboxes\n",
        "        }.items()\n",
        "\n",
        "    def __str__(self):\n",
        "        return json.dumps(self.to_json())\n",
        "        # return json.dumps(dict(self), default=default, ensure_ascii=False)\n",
        "\n",
        "    def __repr__(self):\n",
        "        return self.__str__()\n",
        "\n",
        "    def to_json(self):\n",
        "        to_return = {\"version\": self.version, \"type\": self.type}\n",
        "        image_boxes = {}\n",
        "        for key, boxes in self.bboxes.items():\n",
        "            jboxes = []\n",
        "            for box in boxes:\n",
        "                jboxes.append(box.__dict__)\n",
        "            image_boxes[key] = jboxes\n",
        "\n",
        "        to_return[\"boundingBoxes\"] = image_boxes\n",
        "        return to_return\n",
        "\n",
        "label1 = Label(\"person\", 10, 10, 4, 10)\n",
        "label2 = Label(\"car\", 20, 20, 5, 11)\n",
        "\n",
        "image_bboxes = {\"image1.jpg\": [label1, label2]}\n",
        "\n",
        "image_label_col = ImageLabelCollection(image_bboxes)\n",
        "print(image_label_col)\n",
        "print(json.dumps(image_label_col, default=default))"
      ],
      "execution_count": 28,
      "outputs": [
        {
          "output_type": "stream",
          "name": "stdout",
          "text": [
            "{\"version\": 1, \"type\": \"bounding-box-labels\", \"boundingBoxes\": {\"image1.jpg\": [{\"label\": \"person\", \"x\": 10, \"y\": 10, \"width\": 4, \"height\": 10}, {\"label\": \"car\", \"x\": 20, \"y\": 20, \"width\": 5, \"height\": 11}]}}\n",
            "{\"version\": 1, \"type\": \"bounding-box-labels\", \"boundingBoxes\": {\"image1.jpg\": [{\"label\": \"person\", \"x\": 10, \"y\": 10, \"width\": 4, \"height\": 10}, {\"label\": \"car\", \"x\": 20, \"y\": 20, \"width\": 5, \"height\": 11}]}}\n"
          ]
        }
      ]
    },
    {
      "cell_type": "markdown",
      "metadata": {
        "id": "rQ_cfVviAH2o"
      },
      "source": [
        "Now we can see the difference between print() and json.dumps(). The regular print method calls __str__ and thus the contained objects are double-serialized, json.dumps() returns customized JSON file friendly output that we want."
      ]
    }
  ]
}