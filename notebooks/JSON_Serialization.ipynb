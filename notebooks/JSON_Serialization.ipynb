{
  "nbformat": 4,
  "nbformat_minor": 0,
  "metadata": {
    "colab": {
      "name": "JSON_Serialization.ipynb",
      "provenance": [],
      "toc_visible": true,
      "authorship_tag": "ABX9TyN6XL94tNV/Ks42qJRKhJbN",
      "include_colab_link": true
    },
    "kernelspec": {
      "name": "python3",
      "display_name": "Python 3"
    },
    "language_info": {
      "name": "python"
    }
  },
  "cells": [
    {
      "cell_type": "markdown",
      "metadata": {
        "id": "view-in-github",
        "colab_type": "text"
      },
      "source": [
        "<a href=\"https://colab.research.google.com/github/changsin/Medium/blob/main/notebooks/JSON_Serialization.ipynb\" target=\"_parent\"><img src=\"https://colab.research.google.com/assets/colab-badge.svg\" alt=\"Open In Colab\"/></a>"
      ]
    },
    {
      "cell_type": "markdown",
      "metadata": {
        "id": "dWJ2REDurI_A"
      },
      "source": [
        "# JSON Serialization\n",
        "Serialization is the process of turning an object into something that can be saved and retrieved later: e.g., displaying an object print or saving into a file. For basic types like string, int or Boolean, you don't need to do anything special to print and save them in Python. For custom objects like instances of a class you defined, things are not quite straightforward. Here is the summary of the issues that you will encounter and how you can solve them."
      ]
    },
    {
      "cell_type": "markdown",
      "metadata": {
        "id": "hqIm-bLVru5X"
      },
      "source": [
        "# 1. Use \\__dict\\__ for simple types\n",
        "Simple types can be serialized as a dictionary object."
      ]
    },
    {
      "cell_type": "code",
      "metadata": {
        "colab": {
          "base_uri": "https://localhost:8080/"
        },
        "id": "-gS6X_Npqyfd",
        "outputId": "a4efd047-dcb8-448c-9009-7db843761cf8"
      },
      "source": [
        "class ImageLabelSimple:\n",
        "    def __init__(self, label, x, y, width, height):\n",
        "        self.label = label\n",
        "        self.x = x\n",
        "        self.y = y\n",
        "        self.width = width\n",
        "        self.height = height\n",
        "\n",
        "image_label = ImageLabelSimple(\"person\", 10, 10, 4, 10)\n",
        "print(image_label)\n",
        "print(image_label.__dict__)"
      ],
      "execution_count": null,
      "outputs": [
        {
          "output_type": "stream",
          "name": "stdout",
          "text": [
            "<__main__.ImageLabelSimple object at 0x7fbccbf15110>\n",
            "{'label': 'person', 'x': 10, 'y': 10, 'width': 4, 'height': 10}\n"
          ]
        }
      ]
    },
    {
      "cell_type": "markdown",
      "metadata": {
        "id": "hy2Ah8GVIEYq"
      },
      "source": [
        "But this method doesn't work if you want to use json.dumps() which is a default method of serializing an object into a JSON object in Python."
      ]
    },
    {
      "cell_type": "code",
      "metadata": {
        "colab": {
          "base_uri": "https://localhost:8080/",
          "height": 337
        },
        "id": "jBbJyVpxrjPk",
        "outputId": "60e64180-4a1d-410a-80d2-fe7b40626554"
      },
      "source": [
        "import json\n",
        "\n",
        "print(json.dumps(image_label))"
      ],
      "execution_count": null,
      "outputs": [
        {
          "output_type": "error",
          "ename": "TypeError",
          "evalue": "ignored",
          "traceback": [
            "\u001b[0;31m---------------------------------------------------------------------------\u001b[0m",
            "\u001b[0;31mTypeError\u001b[0m                                 Traceback (most recent call last)",
            "\u001b[0;32m<ipython-input-6-7ec5bf0fe257>\u001b[0m in \u001b[0;36m<module>\u001b[0;34m()\u001b[0m\n\u001b[1;32m      1\u001b[0m \u001b[0;32mimport\u001b[0m \u001b[0mjson\u001b[0m\u001b[0;34m\u001b[0m\u001b[0;34m\u001b[0m\u001b[0m\n\u001b[1;32m      2\u001b[0m \u001b[0;34m\u001b[0m\u001b[0m\n\u001b[0;32m----> 3\u001b[0;31m \u001b[0mprint\u001b[0m\u001b[0;34m(\u001b[0m\u001b[0mjson\u001b[0m\u001b[0;34m.\u001b[0m\u001b[0mdumps\u001b[0m\u001b[0;34m(\u001b[0m\u001b[0mimage_label\u001b[0m\u001b[0;34m)\u001b[0m\u001b[0;34m)\u001b[0m\u001b[0;34m\u001b[0m\u001b[0;34m\u001b[0m\u001b[0m\n\u001b[0m",
            "\u001b[0;32m/usr/lib/python3.7/json/__init__.py\u001b[0m in \u001b[0;36mdumps\u001b[0;34m(obj, skipkeys, ensure_ascii, check_circular, allow_nan, cls, indent, separators, default, sort_keys, **kw)\u001b[0m\n\u001b[1;32m    229\u001b[0m         \u001b[0mcls\u001b[0m \u001b[0;32mis\u001b[0m \u001b[0;32mNone\u001b[0m \u001b[0;32mand\u001b[0m \u001b[0mindent\u001b[0m \u001b[0;32mis\u001b[0m \u001b[0;32mNone\u001b[0m \u001b[0;32mand\u001b[0m \u001b[0mseparators\u001b[0m \u001b[0;32mis\u001b[0m \u001b[0;32mNone\u001b[0m \u001b[0;32mand\u001b[0m\u001b[0;34m\u001b[0m\u001b[0;34m\u001b[0m\u001b[0m\n\u001b[1;32m    230\u001b[0m         default is None and not sort_keys and not kw):\n\u001b[0;32m--> 231\u001b[0;31m         \u001b[0;32mreturn\u001b[0m \u001b[0m_default_encoder\u001b[0m\u001b[0;34m.\u001b[0m\u001b[0mencode\u001b[0m\u001b[0;34m(\u001b[0m\u001b[0mobj\u001b[0m\u001b[0;34m)\u001b[0m\u001b[0;34m\u001b[0m\u001b[0;34m\u001b[0m\u001b[0m\n\u001b[0m\u001b[1;32m    232\u001b[0m     \u001b[0;32mif\u001b[0m \u001b[0mcls\u001b[0m \u001b[0;32mis\u001b[0m \u001b[0;32mNone\u001b[0m\u001b[0;34m:\u001b[0m\u001b[0;34m\u001b[0m\u001b[0;34m\u001b[0m\u001b[0m\n\u001b[1;32m    233\u001b[0m         \u001b[0mcls\u001b[0m \u001b[0;34m=\u001b[0m \u001b[0mJSONEncoder\u001b[0m\u001b[0;34m\u001b[0m\u001b[0;34m\u001b[0m\u001b[0m\n",
            "\u001b[0;32m/usr/lib/python3.7/json/encoder.py\u001b[0m in \u001b[0;36mencode\u001b[0;34m(self, o)\u001b[0m\n\u001b[1;32m    197\u001b[0m         \u001b[0;31m# exceptions aren't as detailed.  The list call should be roughly\u001b[0m\u001b[0;34m\u001b[0m\u001b[0;34m\u001b[0m\u001b[0;34m\u001b[0m\u001b[0m\n\u001b[1;32m    198\u001b[0m         \u001b[0;31m# equivalent to the PySequence_Fast that ''.join() would do.\u001b[0m\u001b[0;34m\u001b[0m\u001b[0;34m\u001b[0m\u001b[0;34m\u001b[0m\u001b[0m\n\u001b[0;32m--> 199\u001b[0;31m         \u001b[0mchunks\u001b[0m \u001b[0;34m=\u001b[0m \u001b[0mself\u001b[0m\u001b[0;34m.\u001b[0m\u001b[0miterencode\u001b[0m\u001b[0;34m(\u001b[0m\u001b[0mo\u001b[0m\u001b[0;34m,\u001b[0m \u001b[0m_one_shot\u001b[0m\u001b[0;34m=\u001b[0m\u001b[0;32mTrue\u001b[0m\u001b[0;34m)\u001b[0m\u001b[0;34m\u001b[0m\u001b[0;34m\u001b[0m\u001b[0m\n\u001b[0m\u001b[1;32m    200\u001b[0m         \u001b[0;32mif\u001b[0m \u001b[0;32mnot\u001b[0m \u001b[0misinstance\u001b[0m\u001b[0;34m(\u001b[0m\u001b[0mchunks\u001b[0m\u001b[0;34m,\u001b[0m \u001b[0;34m(\u001b[0m\u001b[0mlist\u001b[0m\u001b[0;34m,\u001b[0m \u001b[0mtuple\u001b[0m\u001b[0;34m)\u001b[0m\u001b[0;34m)\u001b[0m\u001b[0;34m:\u001b[0m\u001b[0;34m\u001b[0m\u001b[0;34m\u001b[0m\u001b[0m\n\u001b[1;32m    201\u001b[0m             \u001b[0mchunks\u001b[0m \u001b[0;34m=\u001b[0m \u001b[0mlist\u001b[0m\u001b[0;34m(\u001b[0m\u001b[0mchunks\u001b[0m\u001b[0;34m)\u001b[0m\u001b[0;34m\u001b[0m\u001b[0;34m\u001b[0m\u001b[0m\n",
            "\u001b[0;32m/usr/lib/python3.7/json/encoder.py\u001b[0m in \u001b[0;36miterencode\u001b[0;34m(self, o, _one_shot)\u001b[0m\n\u001b[1;32m    255\u001b[0m                 \u001b[0mself\u001b[0m\u001b[0;34m.\u001b[0m\u001b[0mkey_separator\u001b[0m\u001b[0;34m,\u001b[0m \u001b[0mself\u001b[0m\u001b[0;34m.\u001b[0m\u001b[0mitem_separator\u001b[0m\u001b[0;34m,\u001b[0m \u001b[0mself\u001b[0m\u001b[0;34m.\u001b[0m\u001b[0msort_keys\u001b[0m\u001b[0;34m,\u001b[0m\u001b[0;34m\u001b[0m\u001b[0;34m\u001b[0m\u001b[0m\n\u001b[1;32m    256\u001b[0m                 self.skipkeys, _one_shot)\n\u001b[0;32m--> 257\u001b[0;31m         \u001b[0;32mreturn\u001b[0m \u001b[0m_iterencode\u001b[0m\u001b[0;34m(\u001b[0m\u001b[0mo\u001b[0m\u001b[0;34m,\u001b[0m \u001b[0;36m0\u001b[0m\u001b[0;34m)\u001b[0m\u001b[0;34m\u001b[0m\u001b[0;34m\u001b[0m\u001b[0m\n\u001b[0m\u001b[1;32m    258\u001b[0m \u001b[0;34m\u001b[0m\u001b[0m\n\u001b[1;32m    259\u001b[0m def _make_iterencode(markers, _default, _encoder, _indent, _floatstr,\n",
            "\u001b[0;32m/usr/lib/python3.7/json/encoder.py\u001b[0m in \u001b[0;36mdefault\u001b[0;34m(self, o)\u001b[0m\n\u001b[1;32m    177\u001b[0m \u001b[0;34m\u001b[0m\u001b[0m\n\u001b[1;32m    178\u001b[0m         \"\"\"\n\u001b[0;32m--> 179\u001b[0;31m         raise TypeError(f'Object of type {o.__class__.__name__} '\n\u001b[0m\u001b[1;32m    180\u001b[0m                         f'is not JSON serializable')\n\u001b[1;32m    181\u001b[0m \u001b[0;34m\u001b[0m\u001b[0m\n",
            "\u001b[0;31mTypeError\u001b[0m: Object of type ImageLabel is not JSON serializable"
          ]
        }
      ]
    },
    {
      "cell_type": "markdown",
      "metadata": {
        "id": "Qy55OFuAuzPX"
      },
      "source": [
        "# 2. Implement \\__str__ or \\__repr__ method\n",
        "Both __str__ and __repr__ are a string representation of the object. Then what is the difference? The main difference between __str__ and __repr__ is the intended audience. __str__ is the string representation of the object for display purposes while __repr__ is to the machine (other methods, etc.) [ref](https://www.pythontutorial.net/python-oop/python-__repr__/).\n",
        "\n",
        "By implementing either or both methods, you do not have to explicitly call json.dumps() to return the JSON string of the object. In our case"
      ]
    },
    {
      "cell_type": "code",
      "metadata": {
        "colab": {
          "base_uri": "https://localhost:8080/"
        },
        "id": "q2KI82Ttr98u",
        "outputId": "e2df722b-106e-40bf-c651-597443579962"
      },
      "source": [
        "class ImageLabel:\n",
        "    def __init__(self, label, x, y, width, height):\n",
        "        self.label = label\n",
        "        self.x = x\n",
        "        self.y = y\n",
        "        self.width = width\n",
        "        self.height = height\n",
        "\n",
        "    def __iter__(self):\n",
        "        yield from {\n",
        "            \"label\": self.label,\n",
        "            \"x\": self.x,\n",
        "            \"y\": self.y,\n",
        "            \"width\": self.width,\n",
        "            \"height\": self.height\n",
        "        }.items()\n",
        "\n",
        "    def __str__(self):\n",
        "        return json.dumps(dict(self), ensure_ascii=False)\n",
        "        # json.dumps basically does this in this case.\n",
        "        # return str({\n",
        "        #     \"label\": self.label,\n",
        "        #     \"x\": self.x,\n",
        "        #     \"y\": self.y,\n",
        "        #     \"width\": self.width,\n",
        "        #     \"height\": self.height\n",
        "        # })\n",
        "\n",
        "    def __repr__(self):\n",
        "        return json.dumps(dict(self), ensure_ascii=False)\n",
        "\n",
        "image_label = ImageLabel(\"person\", 10, 10, 4, 10)\n",
        "\n",
        "print(image_label)\n",
        "# but you cannot call json.dumps on the object since there is no JSONEncoder\n",
        "# print(json.dumps(image_label))"
      ],
      "execution_count": null,
      "outputs": [
        {
          "output_type": "stream",
          "name": "stdout",
          "text": [
            "{\"label\": \"person\", \"x\": 10, \"y\": 10, \"width\": 4, \"height\": 10}\n"
          ]
        }
      ]
    },
    {
      "cell_type": "markdown",
      "metadata": {
        "id": "nPuFjCnsxcHE"
      },
      "source": [
        "# 3. Subclass Encoder\n",
        "To support the json.dumps use case, one way is to implement a custom JSONEncoder class. The pros of this approach is that you don't have to implement extra methods like __str__ or __repr__ and supports a wide variety of class object types. The disadvantage is that you have to implement a custom class.\n"
      ]
    },
    {
      "cell_type": "code",
      "metadata": {
        "colab": {
          "base_uri": "https://localhost:8080/"
        },
        "id": "oC5A6bIKxEgN",
        "outputId": "cdec2eca-3aac-4571-f8e1-874c2280fc95"
      },
      "source": [
        "from json import JSONEncoder\n",
        "\n",
        "class MyEncoder(JSONEncoder):\n",
        "    def default(self, obj):\n",
        "        return obj.__dict__    \n",
        "\n",
        "image_label_simple = ImageLabelSimple(\"person\", 10, 10, 4, 10)\n",
        "\n",
        "print(MyEncoder().encode(image_label_simple))\n",
        "\n",
        "print(json.dumps(image_label_simple, cls=MyEncoder))\n",
        "print(image_label_simple)"
      ],
      "execution_count": null,
      "outputs": [
        {
          "output_type": "stream",
          "name": "stdout",
          "text": [
            "{\"label\": \"person\", \"x\": 10, \"y\": 10, \"width\": 4, \"height\": 10}\n",
            "{\"label\": \"person\", \"x\": 10, \"y\": 10, \"width\": 4, \"height\": 10}\n",
            "<__main__.ImageLabelSimple object at 0x7fbccbfafc90>\n"
          ]
        }
      ]
    },
    {
      "cell_type": "markdown",
      "metadata": {
        "id": "FQ7mn_aezAf-"
      },
      "source": [
        "# 4. Handling next classes\n",
        "While the above solutions work for serializing simple classes, if you have more complex classes that include other custom objects, things do not work quite well. Let's suppose that you have another class \"ImageLabelCollection\" which contains a list of boundingBoxes which is a dictionary with a image file name and a list of bounding boxes for in the image. Below is a sample JSON file."
      ]
    },
    {
      "cell_type": "code",
      "metadata": {
        "colab": {
          "base_uri": "https://localhost:8080/"
        },
        "id": "dDJH7WaM2aAm",
        "outputId": "0d85aa6b-7e34-4be6-9a9d-1eba48c0ea5c"
      },
      "source": [
        "{\n",
        "  \"version\": 1,\n",
        "  \"type\": \"bounding-box-labels\",\n",
        "  \"boundingBoxes\": {\n",
        "    \"20210715_111300 16.jpg\": [\n",
        "      {\n",
        "        \"label\": \"StabilityOff\",\n",
        "        \"x\": 1,\n",
        "        \"y\": 1025,\n",
        "        \"width\": 553,\n",
        "        \"height\": 29\n",
        "      },\n",
        "      {\n",
        "        \"label\": \"StabilityOn\",\n",
        "        \"x\": 1,\n",
        "        \"y\": 964,\n",
        "        \"width\": 563,\n",
        "        \"height\": 30\n",
        "      },\n",
        "    ]\n",
        "  }\n",
        "}"
      ],
      "execution_count": null,
      "outputs": [
        {
          "output_type": "execute_result",
          "data": {
            "text/plain": [
              "{'boundingBoxes': {'20210715_111300 16.jpg': [{'height': 29,\n",
              "    'label': 'StabilityOff',\n",
              "    'width': 553,\n",
              "    'x': 1,\n",
              "    'y': 1025},\n",
              "   {'height': 30, 'label': 'StabilityOn', 'width': 563, 'x': 1, 'y': 964}]},\n",
              " 'type': 'bounding-box-labels',\n",
              " 'version': 1}"
            ]
          },
          "metadata": {},
          "execution_count": 56
        }
      ]
    },
    {
      "cell_type": "markdown",
      "metadata": {
        "id": "0kwhTlM52PgS"
      },
      "source": [
        "Let's see how they are serialized."
      ]
    },
    {
      "cell_type": "code",
      "metadata": {
        "colab": {
          "base_uri": "https://localhost:8080/",
          "height": 354
        },
        "id": "VzNcIha50w_F",
        "outputId": "4dfe86ec-63cb-40f7-ded9-1c54f192d752"
      },
      "source": [
        "class ImageLabelCollectionBad:\n",
        "    def __init__(self, bboxes):\n",
        "        self.version = 1\n",
        "        self.type = \"bounding-box-labels\"\n",
        "        self.bboxes = bboxes\n",
        "\n",
        "    def __iter__(self):\n",
        "        yield from {\n",
        "            \"version\": self.version,\n",
        "            \"type\": self.type,\n",
        "            \"boundingBoxes\": self.bboxes\n",
        "        }.items()\n",
        "\n",
        "    def __str__(self):\n",
        "        # return json.dumps(dict(self), cls=MyEncoder, ensure_ascii=False)\n",
        "        return json.dumps(dict(self), ensure_ascii=False)\n",
        "\n",
        "    def __repr__(self):\n",
        "        return self.__str__()\n",
        "\n",
        "\n",
        "# image_label1 = ImageLabelSimple(\"person\", 10, 10, 4, 10)\n",
        "# image_label2 = ImageLabelSimple(\"car\", 20, 20, 5, 11)\n",
        "\n",
        "# image_bboxes = {\"image1.jpg\": [image_label1, image_label2]}\n",
        "\n",
        "# image_label_col = ImageLabelCollection(image_bboxes)\n",
        "# print(image_label_col)\n",
        "# print(json.dumps(image_label_col, cls=MyEncoder))\n",
        "\n",
        "image_label1 = ImageLabel(\"person\", 10, 10, 4, 10)\n",
        "image_label2 = ImageLabel(\"car\", 20, 20, 5, 11)\n",
        "\n",
        "image_bboxes = {\"image1.jpg\": [image_label1, image_label2]}\n",
        "\n",
        "image_label_col_bad = ImageLabelCollectionBad(image_bboxes)\n",
        "print(image_label_col_bad)\n",
        "# print(json.dumps(image_label_col, cls=MyEncoder))"
      ],
      "execution_count": null,
      "outputs": [
        {
          "output_type": "error",
          "ename": "TypeError",
          "evalue": "ignored",
          "traceback": [
            "\u001b[0;31m---------------------------------------------------------------------------\u001b[0m",
            "\u001b[0;31mTypeError\u001b[0m                                 Traceback (most recent call last)",
            "\u001b[0;32m<ipython-input-67-72dd42dd4385>\u001b[0m in \u001b[0;36m<module>\u001b[0;34m()\u001b[0m\n\u001b[1;32m     35\u001b[0m \u001b[0;34m\u001b[0m\u001b[0m\n\u001b[1;32m     36\u001b[0m \u001b[0mimage_label_col_bad\u001b[0m \u001b[0;34m=\u001b[0m \u001b[0mImageLabelCollectionBad\u001b[0m\u001b[0;34m(\u001b[0m\u001b[0mimage_bboxes\u001b[0m\u001b[0;34m)\u001b[0m\u001b[0;34m\u001b[0m\u001b[0;34m\u001b[0m\u001b[0m\n\u001b[0;32m---> 37\u001b[0;31m \u001b[0mprint\u001b[0m\u001b[0;34m(\u001b[0m\u001b[0mimage_label_col_bad\u001b[0m\u001b[0;34m)\u001b[0m\u001b[0;34m\u001b[0m\u001b[0;34m\u001b[0m\u001b[0m\n\u001b[0m\u001b[1;32m     38\u001b[0m \u001b[0;31m# print(json.dumps(image_label_col, cls=MyEncoder))\u001b[0m\u001b[0;34m\u001b[0m\u001b[0;34m\u001b[0m\u001b[0;34m\u001b[0m\u001b[0m\n",
            "\u001b[0;32m<ipython-input-67-72dd42dd4385>\u001b[0m in \u001b[0;36m__str__\u001b[0;34m(self)\u001b[0m\n\u001b[1;32m     14\u001b[0m     \u001b[0;32mdef\u001b[0m \u001b[0m__str__\u001b[0m\u001b[0;34m(\u001b[0m\u001b[0mself\u001b[0m\u001b[0;34m)\u001b[0m\u001b[0;34m:\u001b[0m\u001b[0;34m\u001b[0m\u001b[0;34m\u001b[0m\u001b[0m\n\u001b[1;32m     15\u001b[0m         \u001b[0;31m# return json.dumps(dict(self), cls=MyEncoder, ensure_ascii=False)\u001b[0m\u001b[0;34m\u001b[0m\u001b[0;34m\u001b[0m\u001b[0;34m\u001b[0m\u001b[0m\n\u001b[0;32m---> 16\u001b[0;31m         \u001b[0;32mreturn\u001b[0m \u001b[0mjson\u001b[0m\u001b[0;34m.\u001b[0m\u001b[0mdumps\u001b[0m\u001b[0;34m(\u001b[0m\u001b[0mdict\u001b[0m\u001b[0;34m(\u001b[0m\u001b[0mself\u001b[0m\u001b[0;34m)\u001b[0m\u001b[0;34m,\u001b[0m \u001b[0mensure_ascii\u001b[0m\u001b[0;34m=\u001b[0m\u001b[0;32mFalse\u001b[0m\u001b[0;34m)\u001b[0m\u001b[0;34m\u001b[0m\u001b[0;34m\u001b[0m\u001b[0m\n\u001b[0m\u001b[1;32m     17\u001b[0m \u001b[0;34m\u001b[0m\u001b[0m\n\u001b[1;32m     18\u001b[0m     \u001b[0;32mdef\u001b[0m \u001b[0m__repr__\u001b[0m\u001b[0;34m(\u001b[0m\u001b[0mself\u001b[0m\u001b[0;34m)\u001b[0m\u001b[0;34m:\u001b[0m\u001b[0;34m\u001b[0m\u001b[0;34m\u001b[0m\u001b[0m\n",
            "\u001b[0;32m/usr/lib/python3.7/json/__init__.py\u001b[0m in \u001b[0;36mdumps\u001b[0;34m(obj, skipkeys, ensure_ascii, check_circular, allow_nan, cls, indent, separators, default, sort_keys, **kw)\u001b[0m\n\u001b[1;32m    236\u001b[0m         \u001b[0mcheck_circular\u001b[0m\u001b[0;34m=\u001b[0m\u001b[0mcheck_circular\u001b[0m\u001b[0;34m,\u001b[0m \u001b[0mallow_nan\u001b[0m\u001b[0;34m=\u001b[0m\u001b[0mallow_nan\u001b[0m\u001b[0;34m,\u001b[0m \u001b[0mindent\u001b[0m\u001b[0;34m=\u001b[0m\u001b[0mindent\u001b[0m\u001b[0;34m,\u001b[0m\u001b[0;34m\u001b[0m\u001b[0;34m\u001b[0m\u001b[0m\n\u001b[1;32m    237\u001b[0m         \u001b[0mseparators\u001b[0m\u001b[0;34m=\u001b[0m\u001b[0mseparators\u001b[0m\u001b[0;34m,\u001b[0m \u001b[0mdefault\u001b[0m\u001b[0;34m=\u001b[0m\u001b[0mdefault\u001b[0m\u001b[0;34m,\u001b[0m \u001b[0msort_keys\u001b[0m\u001b[0;34m=\u001b[0m\u001b[0msort_keys\u001b[0m\u001b[0;34m,\u001b[0m\u001b[0;34m\u001b[0m\u001b[0;34m\u001b[0m\u001b[0m\n\u001b[0;32m--> 238\u001b[0;31m         **kw).encode(obj)\n\u001b[0m\u001b[1;32m    239\u001b[0m \u001b[0;34m\u001b[0m\u001b[0m\n\u001b[1;32m    240\u001b[0m \u001b[0;34m\u001b[0m\u001b[0m\n",
            "\u001b[0;32m/usr/lib/python3.7/json/encoder.py\u001b[0m in \u001b[0;36mencode\u001b[0;34m(self, o)\u001b[0m\n\u001b[1;32m    197\u001b[0m         \u001b[0;31m# exceptions aren't as detailed.  The list call should be roughly\u001b[0m\u001b[0;34m\u001b[0m\u001b[0;34m\u001b[0m\u001b[0;34m\u001b[0m\u001b[0m\n\u001b[1;32m    198\u001b[0m         \u001b[0;31m# equivalent to the PySequence_Fast that ''.join() would do.\u001b[0m\u001b[0;34m\u001b[0m\u001b[0;34m\u001b[0m\u001b[0;34m\u001b[0m\u001b[0m\n\u001b[0;32m--> 199\u001b[0;31m         \u001b[0mchunks\u001b[0m \u001b[0;34m=\u001b[0m \u001b[0mself\u001b[0m\u001b[0;34m.\u001b[0m\u001b[0miterencode\u001b[0m\u001b[0;34m(\u001b[0m\u001b[0mo\u001b[0m\u001b[0;34m,\u001b[0m \u001b[0m_one_shot\u001b[0m\u001b[0;34m=\u001b[0m\u001b[0;32mTrue\u001b[0m\u001b[0;34m)\u001b[0m\u001b[0;34m\u001b[0m\u001b[0;34m\u001b[0m\u001b[0m\n\u001b[0m\u001b[1;32m    200\u001b[0m         \u001b[0;32mif\u001b[0m \u001b[0;32mnot\u001b[0m \u001b[0misinstance\u001b[0m\u001b[0;34m(\u001b[0m\u001b[0mchunks\u001b[0m\u001b[0;34m,\u001b[0m \u001b[0;34m(\u001b[0m\u001b[0mlist\u001b[0m\u001b[0;34m,\u001b[0m \u001b[0mtuple\u001b[0m\u001b[0;34m)\u001b[0m\u001b[0;34m)\u001b[0m\u001b[0;34m:\u001b[0m\u001b[0;34m\u001b[0m\u001b[0;34m\u001b[0m\u001b[0m\n\u001b[1;32m    201\u001b[0m             \u001b[0mchunks\u001b[0m \u001b[0;34m=\u001b[0m \u001b[0mlist\u001b[0m\u001b[0;34m(\u001b[0m\u001b[0mchunks\u001b[0m\u001b[0;34m)\u001b[0m\u001b[0;34m\u001b[0m\u001b[0;34m\u001b[0m\u001b[0m\n",
            "\u001b[0;32m/usr/lib/python3.7/json/encoder.py\u001b[0m in \u001b[0;36miterencode\u001b[0;34m(self, o, _one_shot)\u001b[0m\n\u001b[1;32m    255\u001b[0m                 \u001b[0mself\u001b[0m\u001b[0;34m.\u001b[0m\u001b[0mkey_separator\u001b[0m\u001b[0;34m,\u001b[0m \u001b[0mself\u001b[0m\u001b[0;34m.\u001b[0m\u001b[0mitem_separator\u001b[0m\u001b[0;34m,\u001b[0m \u001b[0mself\u001b[0m\u001b[0;34m.\u001b[0m\u001b[0msort_keys\u001b[0m\u001b[0;34m,\u001b[0m\u001b[0;34m\u001b[0m\u001b[0;34m\u001b[0m\u001b[0m\n\u001b[1;32m    256\u001b[0m                 self.skipkeys, _one_shot)\n\u001b[0;32m--> 257\u001b[0;31m         \u001b[0;32mreturn\u001b[0m \u001b[0m_iterencode\u001b[0m\u001b[0;34m(\u001b[0m\u001b[0mo\u001b[0m\u001b[0;34m,\u001b[0m \u001b[0;36m0\u001b[0m\u001b[0;34m)\u001b[0m\u001b[0;34m\u001b[0m\u001b[0;34m\u001b[0m\u001b[0m\n\u001b[0m\u001b[1;32m    258\u001b[0m \u001b[0;34m\u001b[0m\u001b[0m\n\u001b[1;32m    259\u001b[0m def _make_iterencode(markers, _default, _encoder, _indent, _floatstr,\n",
            "\u001b[0;32m/usr/lib/python3.7/json/encoder.py\u001b[0m in \u001b[0;36mdefault\u001b[0;34m(self, o)\u001b[0m\n\u001b[1;32m    177\u001b[0m \u001b[0;34m\u001b[0m\u001b[0m\n\u001b[1;32m    178\u001b[0m         \"\"\"\n\u001b[0;32m--> 179\u001b[0;31m         raise TypeError(f'Object of type {o.__class__.__name__} '\n\u001b[0m\u001b[1;32m    180\u001b[0m                         f'is not JSON serializable')\n\u001b[1;32m    181\u001b[0m \u001b[0;34m\u001b[0m\u001b[0m\n",
            "\u001b[0;31mTypeError\u001b[0m: Object of type ImageLabel is not JSON serializable"
          ]
        }
      ]
    },
    {
      "cell_type": "markdown",
      "metadata": {
        "id": "hEwT8VPS5NGQ"
      },
      "source": [
        "The first attempt failed because when json.dumps() calls on the ImageLabelCollection object itself, it sees a list of ImageLabel objects which are not JSON serializable and thus the error.\n",
        "\n",
        "The simplest way to fix is to specify the 'cls' parameter."
      ]
    },
    {
      "cell_type": "code",
      "metadata": {
        "colab": {
          "base_uri": "https://localhost:8080/"
        },
        "id": "OCh-BaZh5xiO",
        "outputId": "3e2ebe02-a137-408a-9815-65b210e27a75"
      },
      "source": [
        "class ImageLabelCollection:\n",
        "    def __init__(self, bboxes):\n",
        "        self.version = 1\n",
        "        self.type = \"bounding-box-labels\"\n",
        "        self.bboxes = bboxes\n",
        "\n",
        "    def __iter__(self):\n",
        "        yield from {\n",
        "            \"version\": self.version,\n",
        "            \"type\": self.type,\n",
        "            \"boundingBoxes\": self.bboxes\n",
        "        }.items()\n",
        "\n",
        "    def __str__(self):\n",
        "        return json.dumps(dict(self), cls=MyEncoder, ensure_ascii=False)\n",
        "\n",
        "    def __repr__(self):\n",
        "        return self.__str__()\n",
        "\n",
        "\n",
        "image_label1 = ImageLabel(\"person\", 10, 10, 4, 10)\n",
        "image_label2 = ImageLabel(\"car\", 20, 20, 5, 11)\n",
        "\n",
        "image_bboxes = {\"image1.jpg\": [image_label1, image_label2]}\n",
        "\n",
        "image_label_col = ImageLabelCollection(image_bboxes)\n",
        "print(image_label_col)\n",
        "print(json.dumps(image_label_col, cls=MyEncoder))"
      ],
      "execution_count": null,
      "outputs": [
        {
          "output_type": "stream",
          "name": "stdout",
          "text": [
            "test\n",
            "{\"version\": 1, \"type\": \"bounding-box-labels\", \"bboxes\": {\"image1.jpg\": [{\"label\": \"person\", \"x\": 10, \"y\": 10, \"width\": 4, \"height\": 10}, {\"label\": \"car\", \"x\": 20, \"y\": 20, \"width\": 5, \"height\": 11}]}}\n"
          ]
        }
      ]
    },
    {
      "cell_type": "markdown",
      "metadata": {
        "id": "XIeaCLLR6CAK"
      },
      "source": [
        "This looks a lot better, doesn't it? This method also works with json.dumps if you specify cls parameter as well."
      ]
    },
    {
      "cell_type": "markdown",
      "metadata": {
        "id": "OHLtO7jn9juY"
      },
      "source": [
        "# 5. Implement a custom to_json() method\n",
        "\n",
        "One problem is that you see that the json results are slightly different. The string representation has \"boundingBoxes\" as the key, but with json.dumps() method, the key is \"bboxes\" which is the class variable of ImageLabelCollection. We can tell that, instead of calling the class method __str__, it called MyEncoder's default() method which simply returns __dict__.\n",
        "\n",
        "How can we fix this? A solution is to re-define the default method of the Encoder. Since we are using the same encode for all classes, we have to add to_json() method to both classes."
      ]
    },
    {
      "cell_type": "code",
      "metadata": {
        "colab": {
          "base_uri": "https://localhost:8080/"
        },
        "id": "4TEhPhBn71dx",
        "outputId": "8a103c20-bffa-4dfd-bc2b-e626e3c4bad7"
      },
      "source": [
        "class MyJSONEncoder(JSONEncoder):\n",
        "    def default(self, obj):\n",
        "        return obj.to_json()\n",
        "\n",
        "\n",
        "class ImageLabel:\n",
        "    def __init__(self, label, x, y, width, height):\n",
        "        self.label = label\n",
        "        self.x = x\n",
        "        self.y = y\n",
        "        self.width = width\n",
        "        self.height = height\n",
        "\n",
        "    def __iter__(self):\n",
        "        yield from {\n",
        "            \"label\": self.label,\n",
        "            \"x\": self.x,\n",
        "            \"y\": self.y,\n",
        "            \"width\": self.width,\n",
        "            \"height\": self.height\n",
        "        }.items()\n",
        "\n",
        "    def __str__(self):\n",
        "        return json.dumps(dict(self), ensure_ascii=False)\n",
        "\n",
        "    def __repr__(self):\n",
        "        return self.__str__()\n",
        "\n",
        "    def to_json(self):\n",
        "        return self.__str__()\n",
        "\n",
        "class ImageLabelCollection:\n",
        "    def __init__(self, bboxes):\n",
        "        self.version = 1\n",
        "        self.type = \"bounding-box-labels\"\n",
        "        self.bboxes = bboxes\n",
        "\n",
        "    def __iter__(self):\n",
        "        yield from {\n",
        "            \"version\": self.version,\n",
        "            \"type\": self.type,\n",
        "            \"boundingBoxes\": self.bboxes\n",
        "        }.items()\n",
        "\n",
        "    def __str__(self):\n",
        "        return json.dumps(dict(self), cls=MyJSONEncoder, ensure_ascii=False)\n",
        "\n",
        "    def __repr__(self):\n",
        "        return self.__str__()\n",
        "\n",
        "    def to_json(self):\n",
        "        return self.__str__()\n",
        "\n",
        "image_label1 = ImageLabel(\"person\", 10, 10, 4, 10)\n",
        "image_label2 = ImageLabel(\"car\", 20, 20, 5, 11)\n",
        "\n",
        "image_bboxes = {\"image1.jpg\": [image_label1, image_label2]}\n",
        "\n",
        "image_label_col = ImageLabelCollection(image_bboxes)\n",
        "print(image_label_col)\n",
        "print(json.dumps(image_label_col, cls=MyJSONEncoder))\n"
      ],
      "execution_count": null,
      "outputs": [
        {
          "output_type": "stream",
          "name": "stdout",
          "text": [
            "{\"version\": 1, \"type\": \"bounding-box-labels\", \"boundingBoxes\": {\"image1.jpg\": [\"{\\\"label\\\": \\\"person\\\", \\\"x\\\": 10, \\\"y\\\": 10, \\\"width\\\": 4, \\\"height\\\": 10}\", \"{\\\"label\\\": \\\"car\\\", \\\"x\\\": 20, \\\"y\\\": 20, \\\"width\\\": 5, \\\"height\\\": 11}\"]}}\n",
            "\"{\\\"version\\\": 1, \\\"type\\\": \\\"bounding-box-labels\\\", \\\"boundingBoxes\\\": {\\\"image1.jpg\\\": [\\\"{\\\\\\\"label\\\\\\\": \\\\\\\"person\\\\\\\", \\\\\\\"x\\\\\\\": 10, \\\\\\\"y\\\\\\\": 10, \\\\\\\"width\\\\\\\": 4, \\\\\\\"height\\\\\\\": 10}\\\", \\\"{\\\\\\\"label\\\\\\\": \\\\\\\"car\\\\\\\", \\\\\\\"x\\\\\\\": 20, \\\\\\\"y\\\\\\\": 20, \\\\\\\"width\\\\\\\": 5, \\\\\\\"height\\\\\\\": 11}\\\"]}}\"\n"
          ]
        }
      ]
    },
    {
      "cell_type": "markdown",
      "metadata": {
        "id": "JCIOWlTD-CVF"
      },
      "source": [
        "# 6. Fixing double quotations\n",
        "While we now see boundingBoxes in both cases (simple print and json.dumps), we see a different problem. The ImageLabel classes contained in ImageLabelCollection are turned into strings. This is because we defined __str__ of ImageLabel to return a JSON string representation of the object. When __str__ method of ImageLabelCollection is called, it will try to turn the JSON string into JSON string again. Ouch! We traded one problem with another.\n",
        "\n",
        "A proper way to fix is to refactor to_json() method of ImageLabelCollection class and serialize the contained objects."
      ]
    },
    {
      "cell_type": "code",
      "metadata": {
        "colab": {
          "base_uri": "https://localhost:8080/"
        },
        "id": "A2pvH2bQqVpH",
        "outputId": "a6a52609-21a4-4c4c-bd44-70539c233ad3"
      },
      "source": [
        "def default(obj):\n",
        "    if hasattr(obj, 'to_json'):\n",
        "        return obj.to_json()\n",
        "    raise TypeError(f'Object of type {obj.__class__.__name__} is not JSON serializable')\n",
        "\n",
        "\n",
        "class ImageLabel:\n",
        "    def __init__(self, label, x, y, width, height):\n",
        "        self.label = label\n",
        "        self.x = x\n",
        "        self.y = y\n",
        "        self.width = width\n",
        "        self.height = height\n",
        "\n",
        "    def __iter__(self):\n",
        "        yield from {\n",
        "            \"label\": self.label,\n",
        "            \"x\": self.x,\n",
        "            \"y\": self.y,\n",
        "            \"width\": self.width,\n",
        "            \"height\": self.height\n",
        "        }.items()\n",
        "\n",
        "    def __str__(self):\n",
        "        return json.dumps(dict(self), default=default, ensure_ascii=False)\n",
        "\n",
        "    def __repr__(self):\n",
        "        return self.__str__()\n",
        "\n",
        "    def to_json(self):\n",
        "        return self.__str__()\n",
        "\n",
        "\n",
        "class ImageLabelCollection:\n",
        "    def __init__(self, bboxes):\n",
        "        self.version = 1\n",
        "        self.type = \"bounding-box-labels\"\n",
        "        self.bboxes = bboxes\n",
        "\n",
        "    def __iter__(self):\n",
        "        yield from {\n",
        "            \"version\": self.version,\n",
        "            \"type\": self.type,\n",
        "            \"boundingBoxes\": self.bboxes\n",
        "        }.items()\n",
        "\n",
        "    def __str__(self):\n",
        "        return json.dumps(dict(self), default=default, ensure_ascii=False)\n",
        "\n",
        "    def __repr__(self):\n",
        "        return self.__str__()\n",
        "\n",
        "    def to_json(self):\n",
        "        to_return = {\"version\": self.version, \"type\": self.type}\n",
        "        image_boxes = {}\n",
        "        for key, boxes in self.bboxes.items():\n",
        "            jboxes = []\n",
        "            for box in boxes:\n",
        "                jboxes.append(box.__dict__)\n",
        "            image_boxes[key] = jboxes\n",
        "\n",
        "        to_return[\"boundingBoxes\"] = image_boxes\n",
        "        return to_return\n",
        "\n",
        "image_label1 = ImageLabel(\"person\", 10, 10, 4, 10)\n",
        "image_label2 = ImageLabel(\"car\", 20, 20, 5, 11)\n",
        "\n",
        "image_bboxes = {\"image1.jpg\": [image_label1, image_label2]}\n",
        "\n",
        "image_label_col = ImageLabelCollection(image_bboxes)\n",
        "print(image_label_col)\n",
        "print(json.dumps(image_label_col, default=default))\n"
      ],
      "execution_count": null,
      "outputs": [
        {
          "output_type": "stream",
          "name": "stdout",
          "text": [
            "{\"version\": 1, \"type\": \"bounding-box-labels\", \"boundingBoxes\": {\"image1.jpg\": [\"{\\\"label\\\": \\\"person\\\", \\\"x\\\": 10, \\\"y\\\": 10, \\\"width\\\": 4, \\\"height\\\": 10}\", \"{\\\"label\\\": \\\"car\\\", \\\"x\\\": 20, \\\"y\\\": 20, \\\"width\\\": 5, \\\"height\\\": 11}\"]}}\n",
            "{\"version\": 1, \"type\": \"bounding-box-labels\", \"boundingBoxes\": {\"image1.jpg\": [{\"label\": \"person\", \"x\": 10, \"y\": 10, \"width\": 4, \"height\": 10}, {\"label\": \"car\", \"x\": 20, \"y\": 20, \"width\": 5, \"height\": 11}]}}\n"
          ]
        }
      ]
    },
    {
      "cell_type": "markdown",
      "metadata": {
        "id": "rQ_cfVviAH2o"
      },
      "source": [
        "Now we can see the difference between print() and json.dumps(). The regular print method calls __str__ and thus the contained objects are double-serialized, json.dumps() returns customized JSON file friendly output that we want."
      ]
    }
  ]
}