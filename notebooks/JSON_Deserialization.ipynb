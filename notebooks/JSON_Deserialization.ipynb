{
  "nbformat": 4,
  "nbformat_minor": 0,
  "metadata": {
    "colab": {
      "name": "Dedupe_Osprey_project.ipynb",
      "provenance": [],
      "collapsed_sections": [],
      "toc_visible": true,
      "authorship_tag": "ABX9TyNFfhTIb5lrbTjw3AvhZXp4",
      "include_colab_link": true
    },
    "kernelspec": {
      "name": "python3",
      "display_name": "Python 3"
    },
    "language_info": {
      "name": "python"
    }
  },
  "cells": [
    {
      "cell_type": "markdown",
      "metadata": {
        "id": "view-in-github",
        "colab_type": "text"
      },
      "source": [
        "<a href=\"https://colab.research.google.com/github/changsin/Medium/blob/main/notebooks/JSON_Deserialization.ipynb\" target=\"_parent\"><img src=\"https://colab.research.google.com/assets/colab-badge.svg\" alt=\"Open In Colab\"/></a>"
      ]
    },
    {
      "cell_type": "markdown",
      "source": [
        "# How to Deserialize from JSON\n",
        "After serializing JSON objects, you need to deserialize them back to their original class objects. json.loads() is the main method for deserialization, just as json.dumps() is the main method for serialization.\n",
        "\n",
        "json.loads() returns back the input string into a JSON dictionary so if you need to cast into the proper class type, you have to write some custimization methods."
      ],
      "metadata": {
        "id": "6SQcoJ5cT8yw"
      }
    },
    {
      "cell_type": "code",
      "source": [
        "import json\n",
        "\n",
        "class Label:\n",
        "    def __init__(self, label, x, y, width, height):\n",
        "        self.label = label\n",
        "        self.x = x\n",
        "        self.y = y\n",
        "        self.width = width\n",
        "        self.height = height\n",
        "\n",
        "    def __iter__(self):\n",
        "        yield from {\n",
        "            \"label\": self.label,\n",
        "            \"x\": self.x,\n",
        "            \"y\": self.y,\n",
        "            \"width\": self.width,\n",
        "            \"height\": self.height\n",
        "        }.items()\n",
        "\n",
        "    def __str__(self):\n",
        "        return json.dumps(dict(self), ensure_ascii=False)\n",
        "\n",
        "    def __repr__(self):\n",
        "        return self.__str__()\n",
        "\n",
        "    def to_json(self):\n",
        "        return self.__str__()\n",
        "    \n",
        "    @staticmethod\n",
        "    def from_json(json_dct):\n",
        "      print(type(json_dct), json_dct['label'])\n",
        "      return Label(json_dct['label'],\n",
        "                   json_dct['x'], json_dct['y'],\n",
        "                   json_dct['width'], json_dct['height'])\n",
        "\n",
        "label = Label(\"person\", 10, 10, 4, 10)\n",
        "print(json.dumps(label.__dict__))"
      ],
      "metadata": {
        "id": "6dt4WhidT7_4",
        "outputId": "955a54df-a541-4da2-f29f-8f6f7730024c",
        "colab": {
          "base_uri": "https://localhost:8080/"
        }
      },
      "execution_count": 102,
      "outputs": [
        {
          "output_type": "stream",
          "name": "stdout",
          "text": [
            "{\"label\": \"person\", \"x\": 10, \"y\": 10, \"width\": 4, \"height\": 10}\n"
          ]
        }
      ]
    },
    {
      "cell_type": "markdown",
      "source": [
        "## 1. Use json.loads()\n",
        "Load it as a JSON dictionary and convert it into the proper class object."
      ],
      "metadata": {
        "id": "goUQmbY6TX8L"
      }
    },
    {
      "cell_type": "code",
      "source": [
        "import json\n",
        "\n",
        "json_str = \"{\\\"label\\\": \\\"person\\\", \\\"x\\\": 10, \\\"y\\\": 10, \\\"width\\\": 4, \\\"height\\\": 10}\"\n",
        "\n",
        "json_dct = json.loads(json_str)\n",
        "\n",
        "label_des = Label.from_json(json_dct)\n",
        "\n",
        "print(label_des)\n",
        "\n",
        "assert label_des.height == label.height"
      ],
      "metadata": {
        "id": "gDLdCLcIUIYL",
        "outputId": "2f11ced6-13e6-4056-9fe0-56b89b951e50",
        "colab": {
          "base_uri": "https://localhost:8080/"
        }
      },
      "execution_count": 103,
      "outputs": [
        {
          "output_type": "stream",
          "name": "stdout",
          "text": [
            "<class 'dict'> person\n",
            "{\"label\": \"person\", \"x\": 10, \"y\": 10, \"width\": 4, \"height\": 10}\n"
          ]
        }
      ]
    },
    {
      "cell_type": "code",
      "source": [
        "type(json_str)"
      ],
      "metadata": {
        "id": "stfrswR49Szf",
        "outputId": "a62d4dc3-4cc7-4162-9e0f-0743b5ca2835",
        "colab": {
          "base_uri": "https://localhost:8080/"
        }
      },
      "execution_count": 106,
      "outputs": [
        {
          "output_type": "execute_result",
          "data": {
            "text/plain": [
              "str"
            ]
          },
          "metadata": {},
          "execution_count": 106
        }
      ]
    },
    {
      "cell_type": "markdown",
      "source": [
        "## 2. object_hook\n",
        "You can achieve the same thing by calling json.loads() with object_hook parameter. For simple classes, you can just pass the deserialization method directly."
      ],
      "metadata": {
        "id": "5eFiLtdGTqST"
      }
    },
    {
      "cell_type": "code",
      "source": [
        "\n",
        "label_decoded = json.loads(json_str, object_hook=Label.from_json)\n",
        "print(type(label_decoded), type(label_des))\n",
        "assert type(label_decoded) == type(label_des)"
      ],
      "metadata": {
        "id": "86Rd7UjKUXrr",
        "outputId": "cb1ff657-2b3d-4309-f93c-83fadecf7549",
        "colab": {
          "base_uri": "https://localhost:8080/"
        }
      },
      "execution_count": 104,
      "outputs": [
        {
          "output_type": "stream",
          "name": "stdout",
          "text": [
            "<class 'dict'> person\n",
            "<class '__main__.Label'> <class '__main__.Label'>\n"
          ]
        }
      ]
    },
    {
      "cell_type": "code",
      "source": [
        "json_str"
      ],
      "metadata": {
        "id": "M_GUC-OB5mEP",
        "outputId": "92bd16a2-d9d1-460c-8ecc-b762da6879ad",
        "colab": {
          "base_uri": "https://localhost:8080/",
          "height": 35
        }
      },
      "execution_count": 86,
      "outputs": [
        {
          "output_type": "execute_result",
          "data": {
            "application/vnd.google.colaboratory.intrinsic+json": {
              "type": "string"
            },
            "text/plain": [
              "'{\"label\": \"person\", \"x\": 10, \"y\": 10, \"width\": 4, \"height\": 10}'"
            ]
          },
          "metadata": {},
          "execution_count": 86
        }
      ]
    },
    {
      "cell_type": "markdown",
      "source": [
        "## 3. Nested Classes\n",
        "For nested classes, you have can do it in a couple of different ways. One is to do it on your own, parsing each dictionary entry and constructing the object dynamically. The other is to use object_hook and adding handling method for each nested class types."
      ],
      "metadata": {
        "id": "v_nsieLFioX6"
      }
    },
    {
      "cell_type": "code",
      "source": [
        "json_str2 = \"{ \\\n",
        "                \\\"version\\\": 1, \\\n",
        "                \\\"type\\\": \\\"bounding-box-labels\\\", \\\n",
        "                \\\"boundingBoxes\\\": { \\\n",
        "                \\\"20210715_111300 16.jpg\\\": [ \\\n",
        "                  { \\\n",
        "                    \\\"label\\\": \\\"StabilityOff\\\", \\\n",
        "                    \\\"x\\\": 1, \\\n",
        "                    \\\"y\\\": 1025, \\\n",
        "                    \\\"width\\\": 553, \\\n",
        "                    \\\"height\\\": 29 \\\n",
        "                  }, \\\n",
        "                  { \\\n",
        "                    \\\"label\\\": \\\"StabilityOn\\\", \\\n",
        "                    \\\"x\\\": 1, \\\n",
        "                    \\\"y\\\": 964, \\\n",
        "                    \\\"width\\\": 563, \\\n",
        "                    \\\"height\\\": 30 \\\n",
        "                  }\\\n",
        "                ] \\\n",
        "              }\\\n",
        "            }\""
      ],
      "metadata": {
        "id": "wrcpzGOYiuEE"
      },
      "execution_count": 87,
      "outputs": []
    },
    {
      "cell_type": "code",
      "source": [
        "class ImageLabelCollection:\n",
        "  def __init__(self, bboxes):\n",
        "    self.version = 1\n",
        "    self.type = \"bounding-box-labels\"\n",
        "    self.bboxes = bboxes\n",
        "\n",
        "  def __iter__(self):\n",
        "      yield from {\n",
        "          \"version\": self.version,\n",
        "          \"type\": self.type,\n",
        "          \"boundingBoxes\": self.bboxes\n",
        "      }.items()\n",
        "\n",
        "  def __str__(self):\n",
        "      return json.dumps(self.to_json())\n",
        "\n",
        "  def __repr__(self):\n",
        "      return self.__str__()\n",
        "\n",
        "  def to_json(self):\n",
        "      to_return = {\"version\": self.version, \"type\": self.type}\n",
        "      image_boxes = {}\n",
        "      for key, boxes in self.bboxes.items():\n",
        "          jboxes = []\n",
        "          for box in boxes:\n",
        "              jboxes.append(box.__dict__)\n",
        "          image_boxes[key] = jboxes\n",
        "\n",
        "      to_return[\"boundingBoxes\"] = image_boxes\n",
        "      return to_return\n",
        "    \n",
        "  @staticmethod\n",
        "  def from_json(json_dct):\n",
        "    if 'label' in json_dct.keys():\n",
        "      return Label.from_json(json_dct)\n",
        "    elif 'version' in json_dct.keys():\n",
        "      return ImageLabelCollection(json_dct['boundingBoxes'])\n",
        "    else:\n",
        "      return json_dct\n",
        "\n",
        "  @staticmethod\n",
        "  def from_string(json_str):\n",
        "    json_dct = json.loads(json_str)\n",
        "    version = json_dct['version']\n",
        "    obj_type = json_dct['type']\n",
        "    bboxes_json = json_dct['boundingBoxes']\n",
        "    bboxes = {}\n",
        "\n",
        "    for image_name, bbs in bboxes_json.items():\n",
        "      labels = []\n",
        "      for bb in bbs:\n",
        "        label_box = Label.from_json(bb)\n",
        "        labels.append(label_box)\n",
        "\n",
        "      bboxes[image_name] = labels\n",
        "\n",
        "    return ImageLabelCollection(bboxes)\n",
        "\n",
        "labeled_images = json.loads(json_str2, object_hook=ImageLabelCollection.from_json)"
      ],
      "metadata": {
        "id": "ptlaMPWQZiS_",
        "outputId": "71a282fa-3d78-4b73-9354-fd276468e9b5",
        "colab": {
          "base_uri": "https://localhost:8080/"
        }
      },
      "execution_count": 139,
      "outputs": [
        {
          "output_type": "stream",
          "name": "stdout",
          "text": [
            "<class 'dict'> StabilityOff\n",
            "<class 'dict'> StabilityOn\n"
          ]
        }
      ]
    },
    {
      "cell_type": "code",
      "source": [
        "labeled_images"
      ],
      "metadata": {
        "id": "qO60SYYDiMjx",
        "outputId": "38314991-dffc-460e-dce8-a61039ccd60b",
        "colab": {
          "base_uri": "https://localhost:8080/"
        }
      },
      "execution_count": 140,
      "outputs": [
        {
          "output_type": "execute_result",
          "data": {
            "text/plain": [
              "{\"version\": 1, \"type\": \"bounding-box-labels\", \"boundingBoxes\": {\"20210715_111300 16.jpg\": [{\"label\": \"StabilityOff\", \"x\": 1, \"y\": 1025, \"width\": 553, \"height\": 29}, {\"label\": \"StabilityOn\", \"x\": 1, \"y\": 964, \"width\": 563, \"height\": 30}]}}"
            ]
          },
          "metadata": {},
          "execution_count": 140
        }
      ]
    },
    {
      "cell_type": "code",
      "source": [
        "ImageLabelCollection.from_string(json_str2)"
      ],
      "metadata": {
        "id": "8I4-vDRw70gy",
        "outputId": "03576020-278c-43ac-cc23-386b9de8d339",
        "colab": {
          "base_uri": "https://localhost:8080/"
        }
      },
      "execution_count": 141,
      "outputs": [
        {
          "output_type": "stream",
          "name": "stdout",
          "text": [
            "<class 'dict'> StabilityOff\n",
            "<class 'dict'> StabilityOn\n"
          ]
        },
        {
          "output_type": "execute_result",
          "data": {
            "text/plain": [
              "{\"version\": 1, \"type\": \"bounding-box-labels\", \"boundingBoxes\": {\"20210715_111300 16.jpg\": [{\"label\": \"StabilityOff\", \"x\": 1, \"y\": 1025, \"width\": 553, \"height\": 29}, {\"label\": \"StabilityOn\", \"x\": 1, \"y\": 964, \"width\": 563, \"height\": 30}]}}"
            ]
          },
          "metadata": {},
          "execution_count": 141
        }
      ]
    },
    {
      "cell_type": "markdown",
      "source": [
        "## 4. jsonpickle\n",
        "A much easier solution for serialization and deserialization is using jsonpickle. It handles nested objects as well."
      ],
      "metadata": {
        "id": "zMSH8jhRSAB7"
      }
    },
    {
      "cell_type": "code",
      "source": [
        "!pip install jsonpickle"
      ],
      "metadata": {
        "id": "xaWlP9dOQUqp",
        "outputId": "5201e763-bdc4-4bb1-a3bb-640586c05459",
        "colab": {
          "base_uri": "https://localhost:8080/"
        }
      },
      "execution_count": 143,
      "outputs": [
        {
          "output_type": "stream",
          "name": "stdout",
          "text": [
            "Collecting jsonpickle\n",
            "  Downloading jsonpickle-2.0.0-py2.py3-none-any.whl (37 kB)\n",
            "Requirement already satisfied: importlib-metadata in /usr/local/lib/python3.7/dist-packages (from jsonpickle) (4.8.2)\n",
            "Requirement already satisfied: zipp>=0.5 in /usr/local/lib/python3.7/dist-packages (from importlib-metadata->jsonpickle) (3.6.0)\n",
            "Requirement already satisfied: typing-extensions>=3.6.4 in /usr/local/lib/python3.7/dist-packages (from importlib-metadata->jsonpickle) (3.10.0.2)\n",
            "Installing collected packages: jsonpickle\n",
            "Successfully installed jsonpickle-2.0.0\n"
          ]
        }
      ]
    },
    {
      "cell_type": "code",
      "source": [
        "import jsonpickle\n",
        "\n",
        "labeled_images_pickled = jsonpickle.encode(labeled_images)"
      ],
      "metadata": {
        "id": "flNtKymsAAyc"
      },
      "execution_count": 148,
      "outputs": []
    },
    {
      "cell_type": "code",
      "source": [
        "labeled_images_pickled"
      ],
      "metadata": {
        "id": "ObNglfmZROiM",
        "outputId": "6bab2e89-2cc1-4bcb-af13-1fb5c4b19527",
        "colab": {
          "base_uri": "https://localhost:8080/",
          "height": 70
        }
      },
      "execution_count": 158,
      "outputs": [
        {
          "output_type": "execute_result",
          "data": {
            "application/vnd.google.colaboratory.intrinsic+json": {
              "type": "string"
            },
            "text/plain": [
              "'{\"py/object\": \"__main__.ImageLabelCollection\", \"version\": 1, \"type\": \"bounding-box-labels\", \"bboxes\": {\"20210715_111300 16.jpg\": [{\"py/object\": \"__main__.Label\", \"label\": \"StabilityOff\", \"x\": 1, \"y\": 1025, \"width\": 553, \"height\": 29}, {\"py/object\": \"__main__.Label\", \"label\": \"StabilityOn\", \"x\": 1, \"y\": 964, \"width\": 563, \"height\": 30}]}}'"
            ]
          },
          "metadata": {},
          "execution_count": 158
        }
      ]
    },
    {
      "cell_type": "code",
      "source": [
        "labeled_imaged_unpickled = jsonpickle.decode(labeled_images_pickled)"
      ],
      "metadata": {
        "id": "qcwuOqVtQPo3"
      },
      "execution_count": 150,
      "outputs": []
    },
    {
      "cell_type": "code",
      "source": [
        "type(labeled_imaged_unpickled)"
      ],
      "metadata": {
        "id": "FHJJYiX8Q30D",
        "outputId": "2657c805-d389-4559-d201-e5555497ecba",
        "colab": {
          "base_uri": "https://localhost:8080/"
        }
      },
      "execution_count": 151,
      "outputs": [
        {
          "output_type": "execute_result",
          "data": {
            "text/plain": [
              "__main__.ImageLabelCollection"
            ]
          },
          "metadata": {},
          "execution_count": 151
        }
      ]
    },
    {
      "cell_type": "code",
      "source": [
        "type(labeled_images_pickled)"
      ],
      "metadata": {
        "id": "FiG6GJkYQ_2S",
        "outputId": "fb27feb9-4b66-4265-94da-27207174d8e7",
        "colab": {
          "base_uri": "https://localhost:8080/"
        }
      },
      "execution_count": 152,
      "outputs": [
        {
          "output_type": "execute_result",
          "data": {
            "text/plain": [
              "str"
            ]
          },
          "metadata": {},
          "execution_count": 152
        }
      ]
    },
    {
      "cell_type": "code",
      "source": [
        "labeled_imaged_unpickled.bboxes"
      ],
      "metadata": {
        "id": "bPENniuuRGg3",
        "outputId": "5b8c5eaf-f8b1-4c48-e9a6-7be352893554",
        "colab": {
          "base_uri": "https://localhost:8080/"
        }
      },
      "execution_count": 153,
      "outputs": [
        {
          "output_type": "execute_result",
          "data": {
            "text/plain": [
              "{'20210715_111300 16.jpg': [{\"label\": \"StabilityOff\", \"x\": 1, \"y\": 1025, \"width\": 553, \"height\": 29},\n",
              "  {\"label\": \"StabilityOn\", \"x\": 1, \"y\": 964, \"width\": 563, \"height\": 30}]}"
            ]
          },
          "metadata": {},
          "execution_count": 153
        }
      ]
    },
    {
      "cell_type": "code",
      "source": [
        "type(labeled_imaged_unpickled.bboxes['20210715_111300 16.jpg'][0])"
      ],
      "metadata": {
        "id": "-s0LkxJ-RJXs",
        "outputId": "6d73e422-3ff8-463b-c34c-67e35a6b5171",
        "colab": {
          "base_uri": "https://localhost:8080/"
        }
      },
      "execution_count": 157,
      "outputs": [
        {
          "output_type": "execute_result",
          "data": {
            "text/plain": [
              "__main__.Label"
            ]
          },
          "metadata": {},
          "execution_count": 157
        }
      ]
    },
    {
      "cell_type": "code",
      "source": [
        ""
      ],
      "metadata": {
        "id": "Wkj3bdE1SWel"
      },
      "execution_count": null,
      "outputs": []
    }
  ]
}